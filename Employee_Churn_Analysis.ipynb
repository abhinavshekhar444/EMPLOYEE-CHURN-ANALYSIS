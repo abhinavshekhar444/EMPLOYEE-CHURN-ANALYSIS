{
 "cells": [
  {
   "cell_type": "markdown",
   "id": "f2886d21",
   "metadata": {
    "papermill": {
     "duration": 0.011441,
     "end_time": "2023-02-06T10:47:13.588188",
     "exception": false,
     "start_time": "2023-02-06T10:47:13.576747",
     "status": "completed"
    },
    "tags": []
   },
   "source": [
    "# Import Libraries"
   ]
  },
  {
   "cell_type": "code",
   "execution_count": 1,
   "id": "2b832e30",
   "metadata": {
    "execution": {
     "iopub.execute_input": "2023-02-06T10:47:13.611535Z",
     "iopub.status.busy": "2023-02-06T10:47:13.610819Z",
     "iopub.status.idle": "2023-02-06T10:47:20.553512Z",
     "shell.execute_reply": "2023-02-06T10:47:20.552318Z"
    },
    "papermill": {
     "duration": 6.957917,
     "end_time": "2023-02-06T10:47:20.556579",
     "exception": false,
     "start_time": "2023-02-06T10:47:13.598662",
     "status": "completed"
    },
    "tags": []
   },
   "outputs": [],
   "source": [
    "import pandas as pd\n",
    "import numpy as np\n",
    "import tensorflow as tf\n",
    "import matplotlib.pyplot as plt\n",
    "import seaborn as sns"
   ]
  },
  {
   "cell_type": "markdown",
   "id": "46bc1560",
   "metadata": {
    "papermill": {
     "duration": 0.01033,
     "end_time": "2023-02-06T10:47:20.577609",
     "exception": false,
     "start_time": "2023-02-06T10:47:20.567279",
     "status": "completed"
    },
    "tags": []
   },
   "source": [
    "> # # ****Based upon data of employees of a bank we calculate whether a employee have a chance to stay in the company or not.****"
   ]
  },
  {
   "cell_type": "code",
   "execution_count": 2,
   "id": "1b71ee21",
   "metadata": {
    "execution": {
     "iopub.execute_input": "2023-02-06T10:47:20.602594Z",
     "iopub.status.busy": "2023-02-06T10:47:20.601611Z",
     "iopub.status.idle": "2023-02-06T10:47:20.679987Z",
     "shell.execute_reply": "2023-02-06T10:47:20.679182Z"
    },
    "papermill": {
     "duration": 0.093091,
     "end_time": "2023-02-06T10:47:20.682783",
     "exception": false,
     "start_time": "2023-02-06T10:47:20.589692",
     "status": "completed"
    },
    "tags": []
   },
   "outputs": [
    {
     "data": {
      "text/html": [
       "<div>\n",
       "<style scoped>\n",
       "    .dataframe tbody tr th:only-of-type {\n",
       "        vertical-align: middle;\n",
       "    }\n",
       "\n",
       "    .dataframe tbody tr th {\n",
       "        vertical-align: top;\n",
       "    }\n",
       "\n",
       "    .dataframe thead th {\n",
       "        text-align: right;\n",
       "    }\n",
       "</style>\n",
       "<table border=\"1\" class=\"dataframe\">\n",
       "  <thead>\n",
       "    <tr style=\"text-align: right;\">\n",
       "      <th></th>\n",
       "      <th>RowNumber</th>\n",
       "      <th>CustomerId</th>\n",
       "      <th>Surname</th>\n",
       "      <th>CreditScore</th>\n",
       "      <th>Geography</th>\n",
       "      <th>Gender</th>\n",
       "      <th>Age</th>\n",
       "      <th>Tenure</th>\n",
       "      <th>Balance</th>\n",
       "      <th>NumOfProducts</th>\n",
       "      <th>HasCrCard</th>\n",
       "      <th>IsActiveMember</th>\n",
       "      <th>EstimatedSalary</th>\n",
       "      <th>Exited</th>\n",
       "    </tr>\n",
       "  </thead>\n",
       "  <tbody>\n",
       "    <tr>\n",
       "      <th>0</th>\n",
       "      <td>1</td>\n",
       "      <td>15634602</td>\n",
       "      <td>Hargrave</td>\n",
       "      <td>619</td>\n",
       "      <td>France</td>\n",
       "      <td>Female</td>\n",
       "      <td>42</td>\n",
       "      <td>2</td>\n",
       "      <td>0.00</td>\n",
       "      <td>1</td>\n",
       "      <td>1</td>\n",
       "      <td>1</td>\n",
       "      <td>101348.88</td>\n",
       "      <td>1</td>\n",
       "    </tr>\n",
       "    <tr>\n",
       "      <th>1</th>\n",
       "      <td>2</td>\n",
       "      <td>15647311</td>\n",
       "      <td>Hill</td>\n",
       "      <td>608</td>\n",
       "      <td>Spain</td>\n",
       "      <td>Female</td>\n",
       "      <td>41</td>\n",
       "      <td>1</td>\n",
       "      <td>83807.86</td>\n",
       "      <td>1</td>\n",
       "      <td>0</td>\n",
       "      <td>1</td>\n",
       "      <td>112542.58</td>\n",
       "      <td>0</td>\n",
       "    </tr>\n",
       "    <tr>\n",
       "      <th>2</th>\n",
       "      <td>3</td>\n",
       "      <td>15619304</td>\n",
       "      <td>Onio</td>\n",
       "      <td>502</td>\n",
       "      <td>France</td>\n",
       "      <td>Female</td>\n",
       "      <td>42</td>\n",
       "      <td>8</td>\n",
       "      <td>159660.80</td>\n",
       "      <td>3</td>\n",
       "      <td>1</td>\n",
       "      <td>0</td>\n",
       "      <td>113931.57</td>\n",
       "      <td>1</td>\n",
       "    </tr>\n",
       "    <tr>\n",
       "      <th>3</th>\n",
       "      <td>4</td>\n",
       "      <td>15701354</td>\n",
       "      <td>Boni</td>\n",
       "      <td>699</td>\n",
       "      <td>France</td>\n",
       "      <td>Female</td>\n",
       "      <td>39</td>\n",
       "      <td>1</td>\n",
       "      <td>0.00</td>\n",
       "      <td>2</td>\n",
       "      <td>0</td>\n",
       "      <td>0</td>\n",
       "      <td>93826.63</td>\n",
       "      <td>0</td>\n",
       "    </tr>\n",
       "    <tr>\n",
       "      <th>4</th>\n",
       "      <td>5</td>\n",
       "      <td>15737888</td>\n",
       "      <td>Mitchell</td>\n",
       "      <td>850</td>\n",
       "      <td>Spain</td>\n",
       "      <td>Female</td>\n",
       "      <td>43</td>\n",
       "      <td>2</td>\n",
       "      <td>125510.82</td>\n",
       "      <td>1</td>\n",
       "      <td>1</td>\n",
       "      <td>1</td>\n",
       "      <td>79084.10</td>\n",
       "      <td>0</td>\n",
       "    </tr>\n",
       "  </tbody>\n",
       "</table>\n",
       "</div>"
      ],
      "text/plain": [
       "   RowNumber  CustomerId   Surname  CreditScore Geography  Gender  Age  \\\n",
       "0          1    15634602  Hargrave          619    France  Female   42   \n",
       "1          2    15647311      Hill          608     Spain  Female   41   \n",
       "2          3    15619304      Onio          502    France  Female   42   \n",
       "3          4    15701354      Boni          699    France  Female   39   \n",
       "4          5    15737888  Mitchell          850     Spain  Female   43   \n",
       "\n",
       "   Tenure    Balance  NumOfProducts  HasCrCard  IsActiveMember  \\\n",
       "0       2       0.00              1          1               1   \n",
       "1       1   83807.86              1          0               1   \n",
       "2       8  159660.80              3          1               0   \n",
       "3       1       0.00              2          0               0   \n",
       "4       2  125510.82              1          1               1   \n",
       "\n",
       "   EstimatedSalary  Exited  \n",
       "0        101348.88       1  \n",
       "1        112542.58       0  \n",
       "2        113931.57       1  \n",
       "3         93826.63       0  \n",
       "4         79084.10       0  "
      ]
     },
     "execution_count": 2,
     "metadata": {},
     "output_type": "execute_result"
    }
   ],
   "source": [
    "dataset=pd.read_csv('Churn_Modelling.csv')\n",
    "dataset.head()"
   ]
  },
  {
   "cell_type": "code",
   "execution_count": 3,
   "id": "706c04c9",
   "metadata": {
    "execution": {
     "iopub.execute_input": "2023-02-06T10:47:20.706397Z",
     "iopub.status.busy": "2023-02-06T10:47:20.705961Z",
     "iopub.status.idle": "2023-02-06T10:47:20.731001Z",
     "shell.execute_reply": "2023-02-06T10:47:20.729738Z"
    },
    "papermill": {
     "duration": 0.039347,
     "end_time": "2023-02-06T10:47:20.733402",
     "exception": false,
     "start_time": "2023-02-06T10:47:20.694055",
     "status": "completed"
    },
    "tags": []
   },
   "outputs": [
    {
     "data": {
      "text/html": [
       "<div>\n",
       "<style scoped>\n",
       "    .dataframe tbody tr th:only-of-type {\n",
       "        vertical-align: middle;\n",
       "    }\n",
       "\n",
       "    .dataframe tbody tr th {\n",
       "        vertical-align: top;\n",
       "    }\n",
       "\n",
       "    .dataframe thead th {\n",
       "        text-align: right;\n",
       "    }\n",
       "</style>\n",
       "<table border=\"1\" class=\"dataframe\">\n",
       "  <thead>\n",
       "    <tr style=\"text-align: right;\">\n",
       "      <th></th>\n",
       "      <th>CreditScore</th>\n",
       "      <th>Geography</th>\n",
       "      <th>Tenure</th>\n",
       "      <th>Balance</th>\n",
       "      <th>NumOfProducts</th>\n",
       "      <th>HasCrCard</th>\n",
       "      <th>IsActiveMember</th>\n",
       "      <th>EstimatedSalary</th>\n",
       "      <th>Exited</th>\n",
       "    </tr>\n",
       "  </thead>\n",
       "  <tbody>\n",
       "    <tr>\n",
       "      <th>0</th>\n",
       "      <td>619</td>\n",
       "      <td>France</td>\n",
       "      <td>2</td>\n",
       "      <td>0.00</td>\n",
       "      <td>1</td>\n",
       "      <td>1</td>\n",
       "      <td>1</td>\n",
       "      <td>101348.88</td>\n",
       "      <td>1</td>\n",
       "    </tr>\n",
       "    <tr>\n",
       "      <th>1</th>\n",
       "      <td>608</td>\n",
       "      <td>Spain</td>\n",
       "      <td>1</td>\n",
       "      <td>83807.86</td>\n",
       "      <td>1</td>\n",
       "      <td>0</td>\n",
       "      <td>1</td>\n",
       "      <td>112542.58</td>\n",
       "      <td>0</td>\n",
       "    </tr>\n",
       "    <tr>\n",
       "      <th>2</th>\n",
       "      <td>502</td>\n",
       "      <td>France</td>\n",
       "      <td>8</td>\n",
       "      <td>159660.80</td>\n",
       "      <td>3</td>\n",
       "      <td>1</td>\n",
       "      <td>0</td>\n",
       "      <td>113931.57</td>\n",
       "      <td>1</td>\n",
       "    </tr>\n",
       "    <tr>\n",
       "      <th>3</th>\n",
       "      <td>699</td>\n",
       "      <td>France</td>\n",
       "      <td>1</td>\n",
       "      <td>0.00</td>\n",
       "      <td>2</td>\n",
       "      <td>0</td>\n",
       "      <td>0</td>\n",
       "      <td>93826.63</td>\n",
       "      <td>0</td>\n",
       "    </tr>\n",
       "    <tr>\n",
       "      <th>4</th>\n",
       "      <td>850</td>\n",
       "      <td>Spain</td>\n",
       "      <td>2</td>\n",
       "      <td>125510.82</td>\n",
       "      <td>1</td>\n",
       "      <td>1</td>\n",
       "      <td>1</td>\n",
       "      <td>79084.10</td>\n",
       "      <td>0</td>\n",
       "    </tr>\n",
       "    <tr>\n",
       "      <th>...</th>\n",
       "      <td>...</td>\n",
       "      <td>...</td>\n",
       "      <td>...</td>\n",
       "      <td>...</td>\n",
       "      <td>...</td>\n",
       "      <td>...</td>\n",
       "      <td>...</td>\n",
       "      <td>...</td>\n",
       "      <td>...</td>\n",
       "    </tr>\n",
       "    <tr>\n",
       "      <th>9995</th>\n",
       "      <td>771</td>\n",
       "      <td>France</td>\n",
       "      <td>5</td>\n",
       "      <td>0.00</td>\n",
       "      <td>2</td>\n",
       "      <td>1</td>\n",
       "      <td>0</td>\n",
       "      <td>96270.64</td>\n",
       "      <td>0</td>\n",
       "    </tr>\n",
       "    <tr>\n",
       "      <th>9996</th>\n",
       "      <td>516</td>\n",
       "      <td>France</td>\n",
       "      <td>10</td>\n",
       "      <td>57369.61</td>\n",
       "      <td>1</td>\n",
       "      <td>1</td>\n",
       "      <td>1</td>\n",
       "      <td>101699.77</td>\n",
       "      <td>0</td>\n",
       "    </tr>\n",
       "    <tr>\n",
       "      <th>9997</th>\n",
       "      <td>709</td>\n",
       "      <td>France</td>\n",
       "      <td>7</td>\n",
       "      <td>0.00</td>\n",
       "      <td>1</td>\n",
       "      <td>0</td>\n",
       "      <td>1</td>\n",
       "      <td>42085.58</td>\n",
       "      <td>1</td>\n",
       "    </tr>\n",
       "    <tr>\n",
       "      <th>9998</th>\n",
       "      <td>772</td>\n",
       "      <td>Germany</td>\n",
       "      <td>3</td>\n",
       "      <td>75075.31</td>\n",
       "      <td>2</td>\n",
       "      <td>1</td>\n",
       "      <td>0</td>\n",
       "      <td>92888.52</td>\n",
       "      <td>1</td>\n",
       "    </tr>\n",
       "    <tr>\n",
       "      <th>9999</th>\n",
       "      <td>792</td>\n",
       "      <td>France</td>\n",
       "      <td>4</td>\n",
       "      <td>130142.79</td>\n",
       "      <td>1</td>\n",
       "      <td>1</td>\n",
       "      <td>0</td>\n",
       "      <td>38190.78</td>\n",
       "      <td>0</td>\n",
       "    </tr>\n",
       "  </tbody>\n",
       "</table>\n",
       "<p>10000 rows × 9 columns</p>\n",
       "</div>"
      ],
      "text/plain": [
       "      CreditScore Geography  Tenure    Balance  NumOfProducts  HasCrCard  \\\n",
       "0             619    France       2       0.00              1          1   \n",
       "1             608     Spain       1   83807.86              1          0   \n",
       "2             502    France       8  159660.80              3          1   \n",
       "3             699    France       1       0.00              2          0   \n",
       "4             850     Spain       2  125510.82              1          1   \n",
       "...           ...       ...     ...        ...            ...        ...   \n",
       "9995          771    France       5       0.00              2          1   \n",
       "9996          516    France      10   57369.61              1          1   \n",
       "9997          709    France       7       0.00              1          0   \n",
       "9998          772   Germany       3   75075.31              2          1   \n",
       "9999          792    France       4  130142.79              1          1   \n",
       "\n",
       "      IsActiveMember  EstimatedSalary  Exited  \n",
       "0                  1        101348.88       1  \n",
       "1                  1        112542.58       0  \n",
       "2                  0        113931.57       1  \n",
       "3                  0         93826.63       0  \n",
       "4                  1         79084.10       0  \n",
       "...              ...              ...     ...  \n",
       "9995               0         96270.64       0  \n",
       "9996               1        101699.77       0  \n",
       "9997               1         42085.58       1  \n",
       "9998               0         92888.52       1  \n",
       "9999               0         38190.78       0  \n",
       "\n",
       "[10000 rows x 9 columns]"
      ]
     },
     "execution_count": 3,
     "metadata": {},
     "output_type": "execute_result"
    }
   ],
   "source": [
    "data=dataset.iloc[:,[3,4,7,8,9,10,11,12,13]]\n",
    "data"
   ]
  },
  {
   "cell_type": "code",
   "execution_count": 4,
   "id": "70bbbb06",
   "metadata": {
    "execution": {
     "iopub.execute_input": "2023-02-06T10:47:20.757518Z",
     "iopub.status.busy": "2023-02-06T10:47:20.757105Z",
     "iopub.status.idle": "2023-02-06T10:47:20.784473Z",
     "shell.execute_reply": "2023-02-06T10:47:20.783266Z"
    },
    "papermill": {
     "duration": 0.042744,
     "end_time": "2023-02-06T10:47:20.787196",
     "exception": false,
     "start_time": "2023-02-06T10:47:20.744452",
     "status": "completed"
    },
    "tags": []
   },
   "outputs": [
    {
     "name": "stdout",
     "output_type": "stream",
     "text": [
      "<class 'pandas.core.frame.DataFrame'>\n",
      "RangeIndex: 10000 entries, 0 to 9999\n",
      "Data columns (total 9 columns):\n",
      " #   Column           Non-Null Count  Dtype  \n",
      "---  ------           --------------  -----  \n",
      " 0   CreditScore      10000 non-null  int64  \n",
      " 1   Geography        10000 non-null  object \n",
      " 2   Tenure           10000 non-null  int64  \n",
      " 3   Balance          10000 non-null  float64\n",
      " 4   NumOfProducts    10000 non-null  int64  \n",
      " 5   HasCrCard        10000 non-null  int64  \n",
      " 6   IsActiveMember   10000 non-null  int64  \n",
      " 7   EstimatedSalary  10000 non-null  float64\n",
      " 8   Exited           10000 non-null  int64  \n",
      "dtypes: float64(2), int64(6), object(1)\n",
      "memory usage: 703.2+ KB\n"
     ]
    }
   ],
   "source": [
    "data.info()"
   ]
  },
  {
   "cell_type": "code",
   "execution_count": 5,
   "id": "acf5179b",
   "metadata": {
    "execution": {
     "iopub.execute_input": "2023-02-06T10:47:20.811053Z",
     "iopub.status.busy": "2023-02-06T10:47:20.810249Z",
     "iopub.status.idle": "2023-02-06T10:47:20.820344Z",
     "shell.execute_reply": "2023-02-06T10:47:20.819043Z"
    },
    "papermill": {
     "duration": 0.02458,
     "end_time": "2023-02-06T10:47:20.822668",
     "exception": false,
     "start_time": "2023-02-06T10:47:20.798088",
     "status": "completed"
    },
    "tags": []
   },
   "outputs": [
    {
     "data": {
      "text/plain": [
       "array([1, 0], dtype=int64)"
      ]
     },
     "execution_count": 5,
     "metadata": {},
     "output_type": "execute_result"
    }
   ],
   "source": [
    "data['Exited'].unique()"
   ]
  },
  {
   "cell_type": "code",
   "execution_count": 6,
   "id": "f69180d0",
   "metadata": {
    "execution": {
     "iopub.execute_input": "2023-02-06T10:47:20.847432Z",
     "iopub.status.busy": "2023-02-06T10:47:20.847031Z",
     "iopub.status.idle": "2023-02-06T10:47:20.852313Z",
     "shell.execute_reply": "2023-02-06T10:47:20.851208Z"
    },
    "papermill": {
     "duration": 0.020365,
     "end_time": "2023-02-06T10:47:20.854768",
     "exception": false,
     "start_time": "2023-02-06T10:47:20.834403",
     "status": "completed"
    },
    "tags": []
   },
   "outputs": [],
   "source": [
    "#***Here we found a one featured column in string format so we need to encode this ,so now we are using a category encoder method***"
   ]
  },
  {
   "cell_type": "code",
   "execution_count": 7,
   "id": "3d5c8ce4",
   "metadata": {
    "execution": {
     "iopub.execute_input": "2023-02-06T10:47:20.878867Z",
     "iopub.status.busy": "2023-02-06T10:47:20.878477Z",
     "iopub.status.idle": "2023-02-06T10:47:20.883430Z",
     "shell.execute_reply": "2023-02-06T10:47:20.882105Z"
    },
    "papermill": {
     "duration": 0.019756,
     "end_time": "2023-02-06T10:47:20.885719",
     "exception": false,
     "start_time": "2023-02-06T10:47:20.865963",
     "status": "completed"
    },
    "tags": []
   },
   "outputs": [],
   "source": [
    "pd.options.mode.chained_assignment = None"
   ]
  },
  {
   "cell_type": "markdown",
   "id": "748fe761",
   "metadata": {
    "papermill": {
     "duration": 0.010547,
     "end_time": "2023-02-06T10:47:20.907266",
     "exception": false,
     "start_time": "2023-02-06T10:47:20.896719",
     "status": "completed"
    },
    "tags": []
   },
   "source": [
    "#SettingWithCopyWarning: \n",
    "#A value is trying to be set on a copy of a slice from a DataFrame.\n",
    "\n",
    " #I got the above error(warning) while doing a Label Encoding ,so to solve this i used a above code"
   ]
  },
  {
   "cell_type": "code",
   "execution_count": 8,
   "id": "bccfe295",
   "metadata": {},
   "outputs": [
    {
     "name": "stdout",
     "output_type": "stream",
     "text": [
      "Requirement already satisfied: category_encoders in c:\\users\\sanket borghare\\anaconda3\\lib\\site-packages (2.6.0)\n",
      "Requirement already satisfied: scipy>=1.0.0 in c:\\users\\sanket borghare\\anaconda3\\lib\\site-packages (from category_encoders) (1.7.3)\n",
      "Requirement already satisfied: pandas>=1.0.5 in c:\\users\\sanket borghare\\anaconda3\\lib\\site-packages (from category_encoders) (1.4.2)\n",
      "Requirement already satisfied: statsmodels>=0.9.0 in c:\\users\\sanket borghare\\anaconda3\\lib\\site-packages (from category_encoders) (0.13.2)\n",
      "Requirement already satisfied: patsy>=0.5.1 in c:\\users\\sanket borghare\\anaconda3\\lib\\site-packages (from category_encoders) (0.5.2)\n",
      "Requirement already satisfied: scikit-learn>=0.20.0 in c:\\users\\sanket borghare\\anaconda3\\lib\\site-packages (from category_encoders) (1.0.2)\n",
      "Requirement already satisfied: numpy>=1.14.0 in c:\\users\\sanket borghare\\anaconda3\\lib\\site-packages (from category_encoders) (1.21.5)\n",
      "Requirement already satisfied: python-dateutil>=2.8.1 in c:\\users\\sanket borghare\\anaconda3\\lib\\site-packages (from pandas>=1.0.5->category_encoders) (2.8.2)\n",
      "Requirement already satisfied: pytz>=2020.1 in c:\\users\\sanket borghare\\anaconda3\\lib\\site-packages (from pandas>=1.0.5->category_encoders) (2021.3)\n",
      "Requirement already satisfied: six in c:\\users\\sanket borghare\\anaconda3\\lib\\site-packages (from patsy>=0.5.1->category_encoders) (1.16.0)\n",
      "Requirement already satisfied: joblib>=0.11 in c:\\users\\sanket borghare\\anaconda3\\lib\\site-packages (from scikit-learn>=0.20.0->category_encoders) (1.1.0)\n",
      "Requirement already satisfied: threadpoolctl>=2.0.0 in c:\\users\\sanket borghare\\anaconda3\\lib\\site-packages (from scikit-learn>=0.20.0->category_encoders) (2.2.0)\n",
      "Requirement already satisfied: packaging>=21.3 in c:\\users\\sanket borghare\\anaconda3\\lib\\site-packages (from statsmodels>=0.9.0->category_encoders) (21.3)\n",
      "Requirement already satisfied: pyparsing!=3.0.5,>=2.0.2 in c:\\users\\sanket borghare\\anaconda3\\lib\\site-packages (from packaging>=21.3->statsmodels>=0.9.0->category_encoders) (3.0.4)\n",
      "Note: you may need to restart the kernel to use updated packages.\n"
     ]
    }
   ],
   "source": [
    "pip install category_encoders"
   ]
  },
  {
   "cell_type": "code",
   "execution_count": 9,
   "id": "7847c198",
   "metadata": {
    "execution": {
     "iopub.execute_input": "2023-02-06T10:47:20.931455Z",
     "iopub.status.busy": "2023-02-06T10:47:20.931005Z",
     "iopub.status.idle": "2023-02-06T10:47:21.456189Z",
     "shell.execute_reply": "2023-02-06T10:47:21.454886Z"
    },
    "papermill": {
     "duration": 0.54048,
     "end_time": "2023-02-06T10:47:21.458989",
     "exception": false,
     "start_time": "2023-02-06T10:47:20.918509",
     "status": "completed"
    },
    "tags": []
   },
   "outputs": [],
   "source": [
    "import category_encoders as ce\n",
    "target_encoder=ce.TargetEncoder()\n",
    "data['Geography']=target_encoder.fit_transform(data['Geography'],data['Exited'])"
   ]
  },
  {
   "cell_type": "code",
   "execution_count": 10,
   "id": "243a0d39",
   "metadata": {
    "execution": {
     "iopub.execute_input": "2023-02-06T10:47:21.482768Z",
     "iopub.status.busy": "2023-02-06T10:47:21.482312Z",
     "iopub.status.idle": "2023-02-06T10:47:21.505098Z",
     "shell.execute_reply": "2023-02-06T10:47:21.503959Z"
    },
    "papermill": {
     "duration": 0.037504,
     "end_time": "2023-02-06T10:47:21.507694",
     "exception": false,
     "start_time": "2023-02-06T10:47:21.470190",
     "status": "completed"
    },
    "tags": []
   },
   "outputs": [
    {
     "data": {
      "text/html": [
       "<div>\n",
       "<style scoped>\n",
       "    .dataframe tbody tr th:only-of-type {\n",
       "        vertical-align: middle;\n",
       "    }\n",
       "\n",
       "    .dataframe tbody tr th {\n",
       "        vertical-align: top;\n",
       "    }\n",
       "\n",
       "    .dataframe thead th {\n",
       "        text-align: right;\n",
       "    }\n",
       "</style>\n",
       "<table border=\"1\" class=\"dataframe\">\n",
       "  <thead>\n",
       "    <tr style=\"text-align: right;\">\n",
       "      <th></th>\n",
       "      <th>CreditScore</th>\n",
       "      <th>Geography</th>\n",
       "      <th>Tenure</th>\n",
       "      <th>Balance</th>\n",
       "      <th>NumOfProducts</th>\n",
       "      <th>HasCrCard</th>\n",
       "      <th>IsActiveMember</th>\n",
       "      <th>EstimatedSalary</th>\n",
       "      <th>Exited</th>\n",
       "    </tr>\n",
       "  </thead>\n",
       "  <tbody>\n",
       "    <tr>\n",
       "      <th>0</th>\n",
       "      <td>619</td>\n",
       "      <td>0.161548</td>\n",
       "      <td>2</td>\n",
       "      <td>0.00</td>\n",
       "      <td>1</td>\n",
       "      <td>1</td>\n",
       "      <td>1</td>\n",
       "      <td>101348.88</td>\n",
       "      <td>1</td>\n",
       "    </tr>\n",
       "    <tr>\n",
       "      <th>1</th>\n",
       "      <td>608</td>\n",
       "      <td>0.166734</td>\n",
       "      <td>1</td>\n",
       "      <td>83807.86</td>\n",
       "      <td>1</td>\n",
       "      <td>0</td>\n",
       "      <td>1</td>\n",
       "      <td>112542.58</td>\n",
       "      <td>0</td>\n",
       "    </tr>\n",
       "    <tr>\n",
       "      <th>2</th>\n",
       "      <td>502</td>\n",
       "      <td>0.161548</td>\n",
       "      <td>8</td>\n",
       "      <td>159660.80</td>\n",
       "      <td>3</td>\n",
       "      <td>1</td>\n",
       "      <td>0</td>\n",
       "      <td>113931.57</td>\n",
       "      <td>1</td>\n",
       "    </tr>\n",
       "    <tr>\n",
       "      <th>3</th>\n",
       "      <td>699</td>\n",
       "      <td>0.161548</td>\n",
       "      <td>1</td>\n",
       "      <td>0.00</td>\n",
       "      <td>2</td>\n",
       "      <td>0</td>\n",
       "      <td>0</td>\n",
       "      <td>93826.63</td>\n",
       "      <td>0</td>\n",
       "    </tr>\n",
       "    <tr>\n",
       "      <th>4</th>\n",
       "      <td>850</td>\n",
       "      <td>0.166734</td>\n",
       "      <td>2</td>\n",
       "      <td>125510.82</td>\n",
       "      <td>1</td>\n",
       "      <td>1</td>\n",
       "      <td>1</td>\n",
       "      <td>79084.10</td>\n",
       "      <td>0</td>\n",
       "    </tr>\n",
       "    <tr>\n",
       "      <th>...</th>\n",
       "      <td>...</td>\n",
       "      <td>...</td>\n",
       "      <td>...</td>\n",
       "      <td>...</td>\n",
       "      <td>...</td>\n",
       "      <td>...</td>\n",
       "      <td>...</td>\n",
       "      <td>...</td>\n",
       "      <td>...</td>\n",
       "    </tr>\n",
       "    <tr>\n",
       "      <th>9995</th>\n",
       "      <td>771</td>\n",
       "      <td>0.161548</td>\n",
       "      <td>5</td>\n",
       "      <td>0.00</td>\n",
       "      <td>2</td>\n",
       "      <td>1</td>\n",
       "      <td>0</td>\n",
       "      <td>96270.64</td>\n",
       "      <td>0</td>\n",
       "    </tr>\n",
       "    <tr>\n",
       "      <th>9996</th>\n",
       "      <td>516</td>\n",
       "      <td>0.161548</td>\n",
       "      <td>10</td>\n",
       "      <td>57369.61</td>\n",
       "      <td>1</td>\n",
       "      <td>1</td>\n",
       "      <td>1</td>\n",
       "      <td>101699.77</td>\n",
       "      <td>0</td>\n",
       "    </tr>\n",
       "    <tr>\n",
       "      <th>9997</th>\n",
       "      <td>709</td>\n",
       "      <td>0.161548</td>\n",
       "      <td>7</td>\n",
       "      <td>0.00</td>\n",
       "      <td>1</td>\n",
       "      <td>0</td>\n",
       "      <td>1</td>\n",
       "      <td>42085.58</td>\n",
       "      <td>1</td>\n",
       "    </tr>\n",
       "    <tr>\n",
       "      <th>9998</th>\n",
       "      <td>772</td>\n",
       "      <td>0.324432</td>\n",
       "      <td>3</td>\n",
       "      <td>75075.31</td>\n",
       "      <td>2</td>\n",
       "      <td>1</td>\n",
       "      <td>0</td>\n",
       "      <td>92888.52</td>\n",
       "      <td>1</td>\n",
       "    </tr>\n",
       "    <tr>\n",
       "      <th>9999</th>\n",
       "      <td>792</td>\n",
       "      <td>0.161548</td>\n",
       "      <td>4</td>\n",
       "      <td>130142.79</td>\n",
       "      <td>1</td>\n",
       "      <td>1</td>\n",
       "      <td>0</td>\n",
       "      <td>38190.78</td>\n",
       "      <td>0</td>\n",
       "    </tr>\n",
       "  </tbody>\n",
       "</table>\n",
       "<p>10000 rows × 9 columns</p>\n",
       "</div>"
      ],
      "text/plain": [
       "      CreditScore  Geography  Tenure    Balance  NumOfProducts  HasCrCard  \\\n",
       "0             619   0.161548       2       0.00              1          1   \n",
       "1             608   0.166734       1   83807.86              1          0   \n",
       "2             502   0.161548       8  159660.80              3          1   \n",
       "3             699   0.161548       1       0.00              2          0   \n",
       "4             850   0.166734       2  125510.82              1          1   \n",
       "...           ...        ...     ...        ...            ...        ...   \n",
       "9995          771   0.161548       5       0.00              2          1   \n",
       "9996          516   0.161548      10   57369.61              1          1   \n",
       "9997          709   0.161548       7       0.00              1          0   \n",
       "9998          772   0.324432       3   75075.31              2          1   \n",
       "9999          792   0.161548       4  130142.79              1          1   \n",
       "\n",
       "      IsActiveMember  EstimatedSalary  Exited  \n",
       "0                  1        101348.88       1  \n",
       "1                  1        112542.58       0  \n",
       "2                  0        113931.57       1  \n",
       "3                  0         93826.63       0  \n",
       "4                  1         79084.10       0  \n",
       "...              ...              ...     ...  \n",
       "9995               0         96270.64       0  \n",
       "9996               1        101699.77       0  \n",
       "9997               1         42085.58       1  \n",
       "9998               0         92888.52       1  \n",
       "9999               0         38190.78       0  \n",
       "\n",
       "[10000 rows x 9 columns]"
      ]
     },
     "execution_count": 10,
     "metadata": {},
     "output_type": "execute_result"
    }
   ],
   "source": [
    "data"
   ]
  },
  {
   "cell_type": "code",
   "execution_count": 11,
   "id": "db42281e",
   "metadata": {
    "execution": {
     "iopub.execute_input": "2023-02-06T10:47:21.532330Z",
     "iopub.status.busy": "2023-02-06T10:47:21.531907Z",
     "iopub.status.idle": "2023-02-06T10:47:21.536847Z",
     "shell.execute_reply": "2023-02-06T10:47:21.535582Z"
    },
    "papermill": {
     "duration": 0.020239,
     "end_time": "2023-02-06T10:47:21.539469",
     "exception": false,
     "start_time": "2023-02-06T10:47:21.519230",
     "status": "completed"
    },
    "tags": []
   },
   "outputs": [],
   "source": [
    "#Now we check the data is balanced or not "
   ]
  },
  {
   "cell_type": "code",
   "execution_count": 12,
   "id": "7e6c331d",
   "metadata": {
    "execution": {
     "iopub.execute_input": "2023-02-06T10:47:21.564870Z",
     "iopub.status.busy": "2023-02-06T10:47:21.564426Z",
     "iopub.status.idle": "2023-02-06T10:47:21.573704Z",
     "shell.execute_reply": "2023-02-06T10:47:21.572421Z"
    },
    "papermill": {
     "duration": 0.025321,
     "end_time": "2023-02-06T10:47:21.576250",
     "exception": false,
     "start_time": "2023-02-06T10:47:21.550929",
     "status": "completed"
    },
    "tags": []
   },
   "outputs": [
    {
     "data": {
      "text/plain": [
       "0    7963\n",
       "1    2037\n",
       "Name: Exited, dtype: int64"
      ]
     },
     "execution_count": 12,
     "metadata": {},
     "output_type": "execute_result"
    }
   ],
   "source": [
    "data['Exited'].value_counts()"
   ]
  },
  {
   "cell_type": "code",
   "execution_count": 13,
   "id": "789486ad",
   "metadata": {
    "execution": {
     "iopub.execute_input": "2023-02-06T10:47:21.601762Z",
     "iopub.status.busy": "2023-02-06T10:47:21.601357Z",
     "iopub.status.idle": "2023-02-06T10:47:21.606281Z",
     "shell.execute_reply": "2023-02-06T10:47:21.605185Z"
    },
    "papermill": {
     "duration": 0.020677,
     "end_time": "2023-02-06T10:47:21.608797",
     "exception": false,
     "start_time": "2023-02-06T10:47:21.588120",
     "status": "completed"
    },
    "tags": []
   },
   "outputs": [],
   "source": [
    "#Here we found the data is imbalanced so we need to balance the data with the help of balancing technique"
   ]
  },
  {
   "cell_type": "code",
   "execution_count": 14,
   "id": "0e2bdf1b",
   "metadata": {
    "execution": {
     "iopub.execute_input": "2023-02-06T10:47:21.634048Z",
     "iopub.status.busy": "2023-02-06T10:47:21.633627Z",
     "iopub.status.idle": "2023-02-06T10:47:21.638396Z",
     "shell.execute_reply": "2023-02-06T10:47:21.637331Z"
    },
    "papermill": {
     "duration": 0.020169,
     "end_time": "2023-02-06T10:47:21.640715",
     "exception": false,
     "start_time": "2023-02-06T10:47:21.620546",
     "status": "completed"
    },
    "tags": []
   },
   "outputs": [],
   "source": [
    "#Before balancing we need to split the data in two two sets one is dependemt(y), and one is independent(x)"
   ]
  },
  {
   "cell_type": "code",
   "execution_count": 15,
   "id": "b4da0f88",
   "metadata": {
    "execution": {
     "iopub.execute_input": "2023-02-06T10:47:21.665459Z",
     "iopub.status.busy": "2023-02-06T10:47:21.665043Z",
     "iopub.status.idle": "2023-02-06T10:47:21.673993Z",
     "shell.execute_reply": "2023-02-06T10:47:21.672835Z"
    },
    "papermill": {
     "duration": 0.024239,
     "end_time": "2023-02-06T10:47:21.676533",
     "exception": false,
     "start_time": "2023-02-06T10:47:21.652294",
     "status": "completed"
    },
    "tags": []
   },
   "outputs": [],
   "source": [
    "x=data.iloc[:,:-1].values\n",
    "y=data.iloc[:,-1].values"
   ]
  },
  {
   "cell_type": "code",
   "execution_count": 19,
   "id": "5e39fd35",
   "metadata": {
    "execution": {
     "iopub.execute_input": "2023-02-06T10:47:21.701594Z",
     "iopub.status.busy": "2023-02-06T10:47:21.700796Z",
     "iopub.status.idle": "2023-02-06T10:47:22.205869Z",
     "shell.execute_reply": "2023-02-06T10:47:22.204692Z"
    },
    "papermill": {
     "duration": 0.520578,
     "end_time": "2023-02-06T10:47:22.208660",
     "exception": false,
     "start_time": "2023-02-06T10:47:21.688082",
     "status": "completed"
    },
    "tags": []
   },
   "outputs": [],
   "source": [
    "from imblearn.over_sampling import SMOTE\n",
    "s=SMOTE()\n",
    "x_data,y_data=s.fit_resample(x,y)"
   ]
  },
  {
   "cell_type": "code",
   "execution_count": 18,
   "id": "367c979a",
   "metadata": {},
   "outputs": [
    {
     "name": "stdout",
     "output_type": "stream",
     "text": [
      "Collecting imblearn\n",
      "  Downloading imblearn-0.0-py2.py3-none-any.whl (1.9 kB)\n",
      "Collecting imbalanced-learn\n",
      "  Downloading imbalanced_learn-0.10.1-py3-none-any.whl (226 kB)\n",
      "Requirement already satisfied: scikit-learn>=1.0.2 in c:\\users\\sanket borghare\\anaconda3\\lib\\site-packages (from imbalanced-learn->imblearn) (1.0.2)\n",
      "Requirement already satisfied: threadpoolctl>=2.0.0 in c:\\users\\sanket borghare\\anaconda3\\lib\\site-packages (from imbalanced-learn->imblearn) (2.2.0)\n",
      "Requirement already satisfied: numpy>=1.17.3 in c:\\users\\sanket borghare\\anaconda3\\lib\\site-packages (from imbalanced-learn->imblearn) (1.21.5)\n",
      "Requirement already satisfied: scipy>=1.3.2 in c:\\users\\sanket borghare\\anaconda3\\lib\\site-packages (from imbalanced-learn->imblearn) (1.7.3)\n",
      "Collecting joblib>=1.1.1\n",
      "  Downloading joblib-1.2.0-py3-none-any.whl (297 kB)\n",
      "Installing collected packages: joblib, imbalanced-learn, imblearn\n",
      "  Attempting uninstall: joblib\n",
      "    Found existing installation: joblib 1.1.0\n",
      "    Uninstalling joblib-1.1.0:\n",
      "      Successfully uninstalled joblib-1.1.0\n",
      "Successfully installed imbalanced-learn-0.10.1 imblearn-0.0 joblib-1.2.0\n",
      "Note: you may need to restart the kernel to use updated packages.\n"
     ]
    }
   ],
   "source": [
    "pip install imblearn"
   ]
  },
  {
   "cell_type": "code",
   "execution_count": 20,
   "id": "7e8cb672",
   "metadata": {
    "execution": {
     "iopub.execute_input": "2023-02-06T10:47:22.234627Z",
     "iopub.status.busy": "2023-02-06T10:47:22.233684Z",
     "iopub.status.idle": "2023-02-06T10:47:22.242856Z",
     "shell.execute_reply": "2023-02-06T10:47:22.241507Z"
    },
    "papermill": {
     "duration": 0.024647,
     "end_time": "2023-02-06T10:47:22.245494",
     "exception": false,
     "start_time": "2023-02-06T10:47:22.220847",
     "status": "completed"
    },
    "tags": []
   },
   "outputs": [
    {
     "name": "stdout",
     "output_type": "stream",
     "text": [
      "Counter({1: 7963, 0: 7963})\n"
     ]
    }
   ],
   "source": [
    "from collections import Counter\n",
    "print(Counter(y_data))"
   ]
  },
  {
   "cell_type": "code",
   "execution_count": 21,
   "id": "d23a0471",
   "metadata": {
    "execution": {
     "iopub.execute_input": "2023-02-06T10:47:22.270469Z",
     "iopub.status.busy": "2023-02-06T10:47:22.270046Z",
     "iopub.status.idle": "2023-02-06T10:47:22.275364Z",
     "shell.execute_reply": "2023-02-06T10:47:22.274114Z"
    },
    "papermill": {
     "duration": 0.020697,
     "end_time": "2023-02-06T10:47:22.277920",
     "exception": false,
     "start_time": "2023-02-06T10:47:22.257223",
     "status": "completed"
    },
    "tags": []
   },
   "outputs": [],
   "source": [
    "#we see in above code, our data is completely balanced"
   ]
  },
  {
   "cell_type": "code",
   "execution_count": 22,
   "id": "22304846",
   "metadata": {
    "execution": {
     "iopub.execute_input": "2023-02-06T10:47:22.303527Z",
     "iopub.status.busy": "2023-02-06T10:47:22.303104Z",
     "iopub.status.idle": "2023-02-06T10:47:22.308164Z",
     "shell.execute_reply": "2023-02-06T10:47:22.306979Z"
    },
    "papermill": {
     "duration": 0.020709,
     "end_time": "2023-02-06T10:47:22.310593",
     "exception": false,
     "start_time": "2023-02-06T10:47:22.289884",
     "status": "completed"
    },
    "tags": []
   },
   "outputs": [],
   "source": [
    "#To make our model more strong and our dataset more better we need to do a feature scaling"
   ]
  },
  {
   "cell_type": "code",
   "execution_count": 23,
   "id": "8ff1b2e4",
   "metadata": {
    "execution": {
     "iopub.execute_input": "2023-02-06T10:47:22.335960Z",
     "iopub.status.busy": "2023-02-06T10:47:22.335559Z",
     "iopub.status.idle": "2023-02-06T10:47:22.346506Z",
     "shell.execute_reply": "2023-02-06T10:47:22.345386Z"
    },
    "papermill": {
     "duration": 0.026636,
     "end_time": "2023-02-06T10:47:22.348924",
     "exception": false,
     "start_time": "2023-02-06T10:47:22.322288",
     "status": "completed"
    },
    "tags": []
   },
   "outputs": [
    {
     "data": {
      "text/plain": [
       "array([[0.538     , 0.        , 0.2       , ..., 1.        , 1.        ,\n",
       "        0.50673489],\n",
       "       [0.516     , 0.03184029, 0.1       , ..., 0.        , 1.        ,\n",
       "        0.56270874],\n",
       "       [0.304     , 0.        , 0.8       , ..., 1.        , 0.        ,\n",
       "        0.56965435],\n",
       "       ...,\n",
       "       [0.48939   , 0.0059115 , 0.5       , ..., 1.        , 0.        ,\n",
       "        0.41486586],\n",
       "       [0.61402896, 0.01673746, 0.2       , ..., 0.52566914, 1.        ,\n",
       "        0.86418935],\n",
       "       [0.54561317, 0.00484811, 0.1065844 , ..., 0.        , 0.15226343,\n",
       "        0.30313701]])"
      ]
     },
     "execution_count": 23,
     "metadata": {},
     "output_type": "execute_result"
    }
   ],
   "source": [
    "from sklearn.preprocessing import MinMaxScaler\n",
    "mms=MinMaxScaler()\n",
    "x_scaled=mms.fit_transform(x_data)\n",
    "x_scaled"
   ]
  },
  {
   "cell_type": "code",
   "execution_count": 24,
   "id": "db076e87",
   "metadata": {
    "execution": {
     "iopub.execute_input": "2023-02-06T10:47:22.374106Z",
     "iopub.status.busy": "2023-02-06T10:47:22.373672Z",
     "iopub.status.idle": "2023-02-06T10:47:22.378659Z",
     "shell.execute_reply": "2023-02-06T10:47:22.377480Z"
    },
    "papermill": {
     "duration": 0.020343,
     "end_time": "2023-02-06T10:47:22.380967",
     "exception": false,
     "start_time": "2023-02-06T10:47:22.360624",
     "status": "completed"
    },
    "tags": []
   },
   "outputs": [],
   "source": [
    "#Now we need to split the dataset into training set and testing set"
   ]
  },
  {
   "cell_type": "code",
   "execution_count": 25,
   "id": "9fce6e0d",
   "metadata": {
    "execution": {
     "iopub.execute_input": "2023-02-06T10:47:22.406912Z",
     "iopub.status.busy": "2023-02-06T10:47:22.406055Z",
     "iopub.status.idle": "2023-02-06T10:47:22.414610Z",
     "shell.execute_reply": "2023-02-06T10:47:22.413443Z"
    },
    "papermill": {
     "duration": 0.024459,
     "end_time": "2023-02-06T10:47:22.417318",
     "exception": false,
     "start_time": "2023-02-06T10:47:22.392859",
     "status": "completed"
    },
    "tags": []
   },
   "outputs": [],
   "source": [
    "from sklearn.model_selection import train_test_split\n",
    "x_train,x_test,y_train,y_test=train_test_split(x_scaled,y_data,test_size=0.25,random_state=30)"
   ]
  },
  {
   "cell_type": "markdown",
   "id": "367a9029",
   "metadata": {
    "papermill": {
     "duration": 0.01157,
     "end_time": "2023-02-06T10:47:22.440756",
     "exception": false,
     "start_time": "2023-02-06T10:47:22.429186",
     "status": "completed"
    },
    "tags": []
   },
   "source": [
    "***Now we move towards our main goal i.e ANN model building*** "
   ]
  },
  {
   "cell_type": "markdown",
   "id": "0b84da55",
   "metadata": {
    "papermill": {
     "duration": 0.011549,
     "end_time": "2023-02-06T10:47:22.464501",
     "exception": false,
     "start_time": "2023-02-06T10:47:22.452952",
     "status": "completed"
    },
    "tags": []
   },
   "source": [
    "# Part 1: ANN Model Initializing and model Building"
   ]
  },
  {
   "cell_type": "code",
   "execution_count": 26,
   "id": "d66066c3",
   "metadata": {
    "execution": {
     "iopub.execute_input": "2023-02-06T10:47:22.489553Z",
     "iopub.status.busy": "2023-02-06T10:47:22.489137Z",
     "iopub.status.idle": "2023-02-06T10:47:23.700556Z",
     "shell.execute_reply": "2023-02-06T10:47:23.699174Z"
    },
    "papermill": {
     "duration": 1.227227,
     "end_time": "2023-02-06T10:47:23.703373",
     "exception": false,
     "start_time": "2023-02-06T10:47:22.476146",
     "status": "completed"
    },
    "tags": []
   },
   "outputs": [
    {
     "data": {
      "text/plain": [
       "<keras.engine.sequential.Sequential at 0x23190eee6d0>"
      ]
     },
     "execution_count": 26,
     "metadata": {},
     "output_type": "execute_result"
    }
   ],
   "source": [
    "ann=tf.keras.models.Sequential()\n",
    "ann"
   ]
  },
  {
   "cell_type": "code",
   "execution_count": 27,
   "id": "fc760660",
   "metadata": {
    "execution": {
     "iopub.execute_input": "2023-02-06T10:47:23.731785Z",
     "iopub.status.busy": "2023-02-06T10:47:23.731355Z",
     "iopub.status.idle": "2023-02-06T10:47:23.758061Z",
     "shell.execute_reply": "2023-02-06T10:47:23.756770Z"
    },
    "papermill": {
     "duration": 0.044868,
     "end_time": "2023-02-06T10:47:23.760883",
     "exception": false,
     "start_time": "2023-02-06T10:47:23.716015",
     "status": "completed"
    },
    "tags": []
   },
   "outputs": [],
   "source": [
    "#Hidden Layers \n",
    "ann.add(tf.keras.layers.Dense(units=8,activation='relu')) #this is 1st hidden layer and input layer also\n",
    "ann.add(tf.keras.layers.Dense(units=8,activation='relu'))\n",
    "ann.add(tf.keras.layers.Dense(units=8,activation='relu'))\n",
    "ann.add(tf.keras.layers.Dense(units=8,activation='relu'))\n",
    "ann.add(tf.keras.layers.Dense(units=8,activation='relu'))\n",
    "ann.add(tf.keras.layers.Dense(units=8,activation='relu'))\n",
    "ann.add(tf.keras.layers.Dense(units=8,activation='relu'))\n",
    "ann.add(tf.keras.layers.Dense(units=8,activation='relu'))\n",
    "ann.add(tf.keras.layers.Dense(units=8,activation='relu'))\n",
    "ann.add(tf.keras.layers.Dense(units=8,activation='relu'))\n",
    "#Output Layer\n",
    "ann.add(tf.keras.layers.Dense(units=1,activation='sigmoid'))"
   ]
  },
  {
   "cell_type": "markdown",
   "id": "1d2d37fb",
   "metadata": {
    "papermill": {
     "duration": 0.011676,
     "end_time": "2023-02-06T10:47:23.784775",
     "exception": false,
     "start_time": "2023-02-06T10:47:23.773099",
     "status": "completed"
    },
    "tags": []
   },
   "source": [
    "# Part 2: Compiling and ANN Model Training on training set "
   ]
  },
  {
   "cell_type": "code",
   "execution_count": 28,
   "id": "f1523eab",
   "metadata": {
    "execution": {
     "iopub.execute_input": "2023-02-06T10:47:23.813550Z",
     "iopub.status.busy": "2023-02-06T10:47:23.812643Z",
     "iopub.status.idle": "2023-02-06T10:47:23.835772Z",
     "shell.execute_reply": "2023-02-06T10:47:23.834421Z"
    },
    "papermill": {
     "duration": 0.041629,
     "end_time": "2023-02-06T10:47:23.838367",
     "exception": false,
     "start_time": "2023-02-06T10:47:23.796738",
     "status": "completed"
    },
    "tags": []
   },
   "outputs": [],
   "source": [
    "ann.compile(optimizer='adam',loss='binary_crossentropy',metrics=['accuracy'])"
   ]
  },
  {
   "cell_type": "code",
   "execution_count": 29,
   "id": "88226cef",
   "metadata": {
    "execution": {
     "iopub.execute_input": "2023-02-06T10:47:23.864040Z",
     "iopub.status.busy": "2023-02-06T10:47:23.863607Z",
     "iopub.status.idle": "2023-02-06T10:48:47.043963Z",
     "shell.execute_reply": "2023-02-06T10:48:47.043109Z"
    },
    "papermill": {
     "duration": 83.28603,
     "end_time": "2023-02-06T10:48:47.136316",
     "exception": false,
     "start_time": "2023-02-06T10:47:23.850286",
     "status": "completed"
    },
    "tags": []
   },
   "outputs": [
    {
     "name": "stdout",
     "output_type": "stream",
     "text": [
      "Epoch 1/50\n",
      "374/374 [==============================] - 4s 3ms/step - loss: 0.6730 - accuracy: 0.5900\n",
      "Epoch 2/50\n",
      "374/374 [==============================] - 1s 3ms/step - loss: 0.6360 - accuracy: 0.6420\n",
      "Epoch 3/50\n",
      "374/374 [==============================] - 1s 3ms/step - loss: 0.5937 - accuracy: 0.6913\n",
      "Epoch 4/50\n",
      "374/374 [==============================] - 1s 4ms/step - loss: 0.5581 - accuracy: 0.7219\n",
      "Epoch 5/50\n",
      "374/374 [==============================] - 1s 4ms/step - loss: 0.5370 - accuracy: 0.7388\n",
      "Epoch 6/50\n",
      "374/374 [==============================] - 1s 3ms/step - loss: 0.5132 - accuracy: 0.7434\n",
      "Epoch 7/50\n",
      "374/374 [==============================] - 2s 5ms/step - loss: 0.4909 - accuracy: 0.7503\n",
      "Epoch 8/50\n",
      "374/374 [==============================] - 1s 4ms/step - loss: 0.4737 - accuracy: 0.7639\n",
      "Epoch 9/50\n",
      "374/374 [==============================] - 1s 3ms/step - loss: 0.4655 - accuracy: 0.7657\n",
      "Epoch 10/50\n",
      "374/374 [==============================] - 1s 3ms/step - loss: 0.4563 - accuracy: 0.7713\n",
      "Epoch 11/50\n",
      "374/374 [==============================] - 1s 4ms/step - loss: 0.4585 - accuracy: 0.7660\n",
      "Epoch 12/50\n",
      "374/374 [==============================] - 1s 3ms/step - loss: 0.4530 - accuracy: 0.7722\n",
      "Epoch 13/50\n",
      "374/374 [==============================] - 1s 3ms/step - loss: 0.4489 - accuracy: 0.7761\n",
      "Epoch 14/50\n",
      "374/374 [==============================] - 1s 4ms/step - loss: 0.4459 - accuracy: 0.7784\n",
      "Epoch 15/50\n",
      "374/374 [==============================] - 2s 5ms/step - loss: 0.4455 - accuracy: 0.7775\n",
      "Epoch 16/50\n",
      "374/374 [==============================] - 2s 6ms/step - loss: 0.4440 - accuracy: 0.7810\n",
      "Epoch 17/50\n",
      "374/374 [==============================] - 1s 4ms/step - loss: 0.4418 - accuracy: 0.7780\n",
      "Epoch 18/50\n",
      "374/374 [==============================] - 1s 3ms/step - loss: 0.4384 - accuracy: 0.7808\n",
      "Epoch 19/50\n",
      "374/374 [==============================] - 1s 3ms/step - loss: 0.4350 - accuracy: 0.7817\n",
      "Epoch 20/50\n",
      "374/374 [==============================] - 1s 3ms/step - loss: 0.4393 - accuracy: 0.7836\n",
      "Epoch 21/50\n",
      "374/374 [==============================] - 2s 5ms/step - loss: 0.4331 - accuracy: 0.7849\n",
      "Epoch 22/50\n",
      "374/374 [==============================] - 2s 6ms/step - loss: 0.4339 - accuracy: 0.7826\n",
      "Epoch 23/50\n",
      "374/374 [==============================] - 2s 5ms/step - loss: 0.4335 - accuracy: 0.7879\n",
      "Epoch 24/50\n",
      "374/374 [==============================] - 1s 4ms/step - loss: 0.4333 - accuracy: 0.7844\n",
      "Epoch 25/50\n",
      "374/374 [==============================] - 1s 4ms/step - loss: 0.4317 - accuracy: 0.7863\n",
      "Epoch 26/50\n",
      "374/374 [==============================] - 1s 4ms/step - loss: 0.4394 - accuracy: 0.7794\n",
      "Epoch 27/50\n",
      "374/374 [==============================] - 1s 3ms/step - loss: 0.4341 - accuracy: 0.7836\n",
      "Epoch 28/50\n",
      "374/374 [==============================] - 1s 3ms/step - loss: 0.4332 - accuracy: 0.7873\n",
      "Epoch 29/50\n",
      "374/374 [==============================] - 1s 3ms/step - loss: 0.4313 - accuracy: 0.7816\n",
      "Epoch 30/50\n",
      "374/374 [==============================] - 1s 3ms/step - loss: 0.4286 - accuracy: 0.7852\n",
      "Epoch 31/50\n",
      "374/374 [==============================] - 1s 3ms/step - loss: 0.4269 - accuracy: 0.7904\n",
      "Epoch 32/50\n",
      "374/374 [==============================] - 1s 4ms/step - loss: 0.4253 - accuracy: 0.7875\n",
      "Epoch 33/50\n",
      "374/374 [==============================] - 1s 4ms/step - loss: 0.4281 - accuracy: 0.7882\n",
      "Epoch 34/50\n",
      "374/374 [==============================] - 2s 4ms/step - loss: 0.4285 - accuracy: 0.7912\n",
      "Epoch 35/50\n",
      "374/374 [==============================] - 1s 3ms/step - loss: 0.4230 - accuracy: 0.7945\n",
      "Epoch 36/50\n",
      "374/374 [==============================] - 1s 3ms/step - loss: 0.4221 - accuracy: 0.7935\n",
      "Epoch 37/50\n",
      "374/374 [==============================] - 1s 3ms/step - loss: 0.4184 - accuracy: 0.7976\n",
      "Epoch 38/50\n",
      "374/374 [==============================] - 1s 3ms/step - loss: 0.4178 - accuracy: 0.7961\n",
      "Epoch 39/50\n",
      "374/374 [==============================] - 1s 4ms/step - loss: 0.4227 - accuracy: 0.7956\n",
      "Epoch 40/50\n",
      "374/374 [==============================] - 1s 4ms/step - loss: 0.4173 - accuracy: 0.8007\n",
      "Epoch 41/50\n",
      "374/374 [==============================] - 1s 3ms/step - loss: 0.4211 - accuracy: 0.7971\n",
      "Epoch 42/50\n",
      "374/374 [==============================] - 1s 4ms/step - loss: 0.4121 - accuracy: 0.8053\n",
      "Epoch 43/50\n",
      "374/374 [==============================] - 2s 4ms/step - loss: 0.4127 - accuracy: 0.8020\n",
      "Epoch 44/50\n",
      "374/374 [==============================] - 2s 4ms/step - loss: 0.4150 - accuracy: 0.8036\n",
      "Epoch 45/50\n",
      "374/374 [==============================] - 2s 5ms/step - loss: 0.4069 - accuracy: 0.8086\n",
      "Epoch 46/50\n",
      "374/374 [==============================] - 2s 5ms/step - loss: 0.4103 - accuracy: 0.8036\n",
      "Epoch 47/50\n",
      "374/374 [==============================] - 2s 4ms/step - loss: 0.4082 - accuracy: 0.8060\n",
      "Epoch 48/50\n",
      "374/374 [==============================] - 2s 4ms/step - loss: 0.3996 - accuracy: 0.8133\n",
      "Epoch 49/50\n",
      "374/374 [==============================] - 2s 6ms/step - loss: 0.4071 - accuracy: 0.8084\n",
      "Epoch 50/50\n",
      "374/374 [==============================] - 2s 5ms/step - loss: 0.3995 - accuracy: 0.8107\n"
     ]
    },
    {
     "data": {
      "text/plain": [
       "<keras.callbacks.History at 0x23193034bb0>"
      ]
     },
     "execution_count": 29,
     "metadata": {},
     "output_type": "execute_result"
    }
   ],
   "source": [
    "ann.fit(x_train,y_train,batch_size=32,epochs=50)"
   ]
  },
  {
   "cell_type": "code",
   "execution_count": 30,
   "id": "3830842b",
   "metadata": {
    "execution": {
     "iopub.execute_input": "2023-02-06T10:48:47.312730Z",
     "iopub.status.busy": "2023-02-06T10:48:47.312036Z",
     "iopub.status.idle": "2023-02-06T10:48:47.705091Z",
     "shell.execute_reply": "2023-02-06T10:48:47.703923Z"
    },
    "papermill": {
     "duration": 0.483992,
     "end_time": "2023-02-06T10:48:47.707638",
     "exception": false,
     "start_time": "2023-02-06T10:48:47.223646",
     "status": "completed"
    },
    "tags": []
   },
   "outputs": [
    {
     "name": "stdout",
     "output_type": "stream",
     "text": [
      "125/125 [==============================] - 1s 2ms/step\n"
     ]
    },
    {
     "data": {
      "text/plain": [
       "array([[0.996781  ],\n",
       "       [0.17561036],\n",
       "       [0.12384738],\n",
       "       ...,\n",
       "       [0.9979368 ],\n",
       "       [0.67014706],\n",
       "       [0.12589963]], dtype=float32)"
      ]
     },
     "execution_count": 30,
     "metadata": {},
     "output_type": "execute_result"
    }
   ],
   "source": [
    "ann_pred=ann.predict(x_test)\n",
    "ann_pred"
   ]
  },
  {
   "cell_type": "code",
   "execution_count": 31,
   "id": "dc9439b5",
   "metadata": {
    "execution": {
     "iopub.execute_input": "2023-02-06T10:48:47.884702Z",
     "iopub.status.busy": "2023-02-06T10:48:47.884269Z",
     "iopub.status.idle": "2023-02-06T10:48:47.898769Z",
     "shell.execute_reply": "2023-02-06T10:48:47.897915Z"
    },
    "papermill": {
     "duration": 0.107814,
     "end_time": "2023-02-06T10:48:47.901204",
     "exception": false,
     "start_time": "2023-02-06T10:48:47.793390",
     "status": "completed"
    },
    "tags": []
   },
   "outputs": [
    {
     "name": "stdout",
     "output_type": "stream",
     "text": [
      "[1, 0, 0, 0, 0, 0, 0, 0, 1, 0, 1, 1, 0, 0, 0, 0, 1, 1, 0, 1, 0, 1, 1, 0, 0, 1, 1, 1, 0, 1, 1, 0, 0, 0, 1, 0, 0, 0, 0, 0, 0, 0, 0, 0, 1, 0, 0, 1, 0, 1, 0, 0, 1, 0, 0, 0, 0, 1, 0, 1, 0, 1, 1, 0, 0, 0, 0, 1, 0, 1, 0, 0, 1, 1, 0, 0, 1, 0, 1, 0, 1, 0, 1, 0, 0, 1, 1, 0, 0, 0, 1, 1, 0, 1, 0, 0, 1, 0, 0, 0, 0, 0, 1, 0, 1, 1, 1, 0, 0, 0, 0, 0, 0, 1, 0, 0, 0, 0, 1, 0, 0, 0, 0, 0, 1, 1, 0, 1, 1, 1, 0, 1, 1, 0, 1, 0, 0, 1, 1, 1, 0, 1, 0, 0, 1, 1, 1, 0, 0, 1, 1, 0, 0, 1, 0, 0, 0, 1, 0, 0, 0, 0, 0, 1, 1, 0, 0, 0, 0, 1, 1, 1, 0, 1, 0, 1, 1, 0, 0, 0, 1, 1, 0, 1, 1, 1, 1, 0, 0, 0, 1, 0, 1, 0, 0, 1, 0, 0, 0, 0, 0, 1, 0, 1, 1, 1, 0, 1, 0, 1, 0, 1, 0, 1, 0, 0, 0, 0, 0, 0, 1, 1, 0, 0, 1, 0, 0, 0, 1, 1, 0, 1, 1, 0, 0, 0, 0, 1, 0, 1, 1, 0, 0, 0, 0, 1, 0, 0, 1, 0, 0, 0, 1, 0, 0, 0, 1, 1, 0, 0, 1, 0, 0, 0, 1, 0, 1, 0, 0, 1, 1, 1, 1, 0, 0, 1, 1, 1, 1, 0, 0, 0, 1, 0, 0, 0, 1, 0, 0, 0, 0, 1, 0, 0, 0, 0, 0, 0, 1, 1, 1, 1, 1, 1, 1, 0, 1, 0, 0, 0, 0, 1, 1, 1, 0, 0, 0, 1, 1, 1, 0, 0, 1, 0, 0, 0, 1, 0, 0, 1, 1, 0, 0, 1, 0, 0, 0, 0, 1, 0, 0, 0, 1, 1, 1, 0, 0, 1, 1, 1, 1, 0, 1, 0, 0, 0, 1, 1, 0, 0, 0, 1, 0, 0, 0, 0, 1, 0, 1, 1, 1, 0, 1, 0, 1, 0, 0, 1, 0, 0, 0, 0, 1, 0, 1, 1, 1, 1, 0, 1, 0, 0, 1, 0, 1, 0, 1, 1, 1, 0, 0, 1, 1, 0, 1, 1, 1, 1, 1, 0, 0, 0, 0, 0, 0, 1, 0, 1, 1, 1, 0, 0, 0, 0, 0, 0, 0, 1, 0, 1, 1, 0, 1, 1, 1, 0, 1, 1, 0, 1, 1, 0, 0, 1, 1, 0, 1, 1, 0, 1, 1, 0, 1, 1, 1, 1, 1, 0, 0, 0, 0, 1, 0, 0, 1, 1, 1, 0, 0, 0, 1, 1, 1, 0, 0, 1, 0, 1, 0, 0, 1, 0, 0, 0, 0, 0, 1, 1, 0, 0, 0, 1, 1, 0, 1, 1, 0, 0, 0, 1, 0, 0, 0, 1, 0, 1, 0, 0, 1, 0, 1, 1, 1, 0, 0, 1, 0, 0, 1, 1, 1, 0, 1, 0, 0, 1, 1, 0, 0, 0, 1, 0, 0, 0, 0, 0, 0, 0, 1, 0, 0, 0, 0, 1, 0, 1, 1, 1, 1, 1, 0, 1, 1, 0, 1, 1, 1, 0, 0, 1, 0, 0, 0, 1, 0, 0, 1, 1, 1, 1, 0, 1, 0, 1, 0, 0, 1, 0, 1, 1, 1, 1, 1, 0, 0, 1, 0, 1, 1, 0, 1, 0, 1, 0, 0, 1, 1, 1, 0, 0, 1, 1, 0, 1, 1, 0, 1, 0, 0, 0, 1, 0, 0, 1, 1, 1, 1, 0, 0, 0, 1, 0, 0, 1, 1, 0, 1, 0, 0, 1, 1, 1, 0, 0, 1, 0, 0, 1, 1, 0, 1, 1, 1, 1, 0, 0, 1, 1, 0, 0, 1, 0, 1, 0, 0, 1, 1, 1, 1, 0, 0, 0, 1, 0, 1, 1, 1, 1, 1, 1, 1, 1, 1, 0, 0, 1, 0, 1, 0, 1, 1, 0, 0, 0, 0, 0, 0, 0, 0, 1, 0, 1, 1, 0, 0, 0, 0, 1, 1, 1, 1, 0, 1, 0, 1, 0, 1, 0, 0, 1, 1, 0, 0, 0, 1, 1, 1, 0, 0, 1, 0, 0, 1, 0, 0, 1, 1, 1, 0, 1, 0, 0, 0, 0, 0, 1, 1, 0, 0, 1, 1, 0, 1, 0, 0, 0, 0, 0, 1, 0, 0, 1, 0, 0, 0, 1, 0, 0, 1, 1, 1, 1, 1, 0, 1, 1, 0, 0, 1, 0, 1, 1, 0, 0, 1, 1, 0, 1, 0, 0, 0, 0, 0, 0, 1, 0, 0, 0, 1, 1, 1, 0, 0, 1, 1, 0, 1, 1, 1, 0, 1, 0, 0, 1, 1, 0, 0, 0, 0, 0, 0, 1, 0, 0, 1, 0, 1, 1, 0, 1, 0, 1, 0, 0, 1, 0, 1, 0, 0, 0, 0, 1, 0, 0, 1, 0, 1, 0, 0, 0, 0, 0, 0, 0, 0, 0, 0, 1, 1, 1, 1, 1, 0, 0, 0, 0, 0, 1, 0, 0, 0, 1, 0, 0, 1, 0, 0, 1, 1, 1, 0, 1, 0, 0, 1, 1, 0, 0, 0, 0, 1, 0, 1, 1, 0, 0, 1, 0, 1, 0, 0, 1, 1, 0, 0, 0, 1, 0, 0, 0, 1, 0, 0, 0, 1, 0, 0, 0, 1, 1, 1, 0, 1, 0, 0, 0, 0, 0, 1, 0, 0, 1, 0, 0, 1, 0, 0, 1, 0, 1, 0, 0, 1, 1, 1, 0, 1, 0, 0, 0, 0, 1, 0, 0, 1, 0, 1, 0, 0, 1, 1, 0, 0, 0, 0, 1, 0, 0, 0, 0, 0, 0, 1, 1, 1, 1, 0, 0, 0, 0, 1, 1, 1, 0, 0, 1, 0, 0, 0, 1, 1, 0, 1, 1, 0, 1, 1, 0, 1, 0, 0, 1, 0, 0, 1, 0, 1, 0, 1, 0, 0, 0, 0, 0, 1, 0, 0, 1, 1, 1, 1, 1, 1, 0, 0, 1, 1, 0, 1, 1, 0, 1, 0, 0, 1, 0, 1, 0, 1, 1, 0, 1, 1, 0, 0, 1, 1, 0, 0, 0, 0, 0, 0, 1, 1, 1, 1, 0, 0, 1, 0, 0, 1, 0, 0, 0, 0, 0, 1, 0, 1, 1, 1, 0, 1, 0, 1, 0, 1, 0, 1, 1, 1, 1, 0, 0, 0, 0, 1, 0, 0, 1, 0, 1, 0, 1, 1, 1, 1, 0, 0, 1, 0, 0, 0, 0, 0, 1, 1, 1, 1, 0, 1, 0, 0, 0, 0, 1, 0, 1, 0, 1, 1, 0, 1, 0, 1, 1, 1, 0, 1, 0, 0, 0, 1, 0, 0, 0, 0, 1, 1, 1, 1, 0, 0, 0, 0, 0, 0, 1, 0, 1, 0, 0, 1, 0, 0, 1, 0, 1, 1, 1, 0, 0, 0, 0, 0, 0, 0, 1, 1, 0, 1, 1, 1, 0, 0, 0, 1, 1, 1, 1, 1, 1, 0, 1, 1, 1, 0, 0, 0, 0, 0, 0, 0, 1, 1, 1, 1, 1, 0, 1, 0, 0, 1, 0, 1, 1, 0, 1, 1, 0, 1, 0, 0, 0, 0, 1, 0, 0, 0, 1, 0, 1, 0, 1, 0, 1, 1, 1, 0, 1, 0, 1, 1, 0, 0, 0, 0, 0, 0, 0, 0, 0, 0, 0, 0, 1, 0, 1, 0, 0, 1, 0, 0, 0, 0, 0, 0, 0, 1, 0, 1, 0, 1, 1, 0, 0, 1, 0, 0, 0, 0, 0, 0, 0, 0, 1, 0, 1, 1, 1, 1, 1, 1, 0, 1, 1, 1, 0, 0, 1, 0, 1, 1, 0, 0, 0, 1, 1, 0, 0, 0, 0, 0, 0, 0, 0, 0, 0, 1, 0, 0, 0, 0, 1, 0, 1, 0, 0, 0, 0, 0, 0, 0, 1, 0, 1, 1, 0, 0, 0, 1, 1, 0, 1, 0, 1, 0, 0, 0, 0, 1, 0, 1, 1, 1, 0, 0, 1, 0, 1, 1, 1, 1, 1, 1, 0, 1, 0, 1, 1, 1, 0, 1, 0, 1, 0, 0, 0, 0, 0, 0, 0, 1, 1, 1, 1, 0, 1, 0, 1, 0, 1, 0, 0, 1, 0, 1, 0, 1, 0, 0, 1, 0, 0, 1, 1, 0, 0, 0, 0, 0, 0, 0, 1, 1, 0, 1, 0, 1, 0, 0, 0, 1, 0, 0, 1, 0, 1, 1, 1, 0, 1, 0, 0, 1, 0, 0, 0, 0, 0, 1, 0, 0, 0, 1, 0, 0, 0, 1, 1, 0, 0, 1, 1, 1, 0, 1, 0, 0, 0, 1, 0, 1, 0, 0, 1, 1, 0, 0, 1, 0, 0, 1, 0, 0, 0, 0, 1, 1, 1, 1, 1, 1, 0, 0, 1, 1, 0, 0, 0, 0, 1, 0, 0, 1, 1, 0, 0, 1, 1, 0, 1, 1, 1, 1, 0, 1, 0, 1, 1, 0, 0, 1, 0, 0, 1, 1, 1, 1, 1, 1, 1, 0, 0, 0, 1, 0, 0, 0, 0, 0, 1, 1, 1, 0, 1, 1, 0, 1, 1, 0, 0, 0, 1, 0, 0, 1, 1, 0, 1, 1, 0, 1, 1, 0, 1, 1, 1, 0, 0, 0, 0, 1, 0, 0, 1, 0, 0, 0, 0, 0, 0, 1, 1, 0, 0, 1, 1, 0, 0, 1, 0, 1, 1, 0, 0, 0, 0, 0, 0, 1, 0, 0, 0, 0, 0, 1, 0, 0, 0, 0, 1, 0, 1, 0, 0, 0, 1, 0, 0, 1, 0, 1, 1, 0, 1, 1, 0, 0, 1, 0, 1, 1, 0, 0, 0, 1, 0, 1, 0, 0, 0, 0, 1, 0, 0, 0, 1, 1, 0, 0, 0, 1, 0, 0, 1, 1, 1, 0, 1, 0, 1, 1, 0, 0, 0, 1, 0, 0, 1, 0, 1, 0, 0, 0, 0, 0, 1, 0, 1, 0, 1, 1, 1, 0, 1, 0, 0, 1, 0, 0, 1, 1, 1, 0, 0, 1, 1, 0, 1, 0, 1, 1, 1, 0, 1, 1, 1, 0, 1, 0, 0, 1, 1, 0, 0, 0, 0, 1, 1, 0, 0, 0, 1, 0, 1, 0, 1, 0, 1, 0, 0, 1, 0, 1, 0, 1, 1, 1, 0, 0, 0, 1, 0, 1, 1, 0, 0, 0, 0, 0, 1, 1, 0, 0, 0, 1, 0, 0, 0, 0, 0, 0, 0, 1, 1, 1, 0, 1, 0, 0, 0, 0, 1, 1, 0, 0, 1, 0, 1, 0, 1, 1, 0, 0, 0, 1, 0, 1, 1, 0, 0, 0, 1, 1, 0, 0, 1, 0, 1, 0, 1, 1, 0, 1, 0, 1, 1, 0, 0, 1, 0, 0, 1, 0, 1, 0, 1, 1, 0, 0, 1, 1, 0, 0, 0, 0, 0, 1, 0, 1, 1, 0, 1, 0, 0, 1, 1, 0, 0, 1, 0, 0, 1, 0, 1, 0, 0, 1, 0, 0, 1, 1, 0, 1, 0, 0, 0, 0, 1, 0, 0, 1, 0, 0, 1, 0, 1, 0, 1, 1, 0, 0, 1, 0, 1, 0, 0, 1, 1, 1, 0, 0, 1, 0, 1, 0, 1, 0, 1, 0, 0, 0, 0, 0, 1, 0, 1, 0, 0, 1, 1, 1, 0, 0, 0, 0, 0, 1, 0, 1, 0, 0, 1, 1, 1, 1, 0, 0, 1, 1, 0, 0, 1, 0, 1, 0, 1, 1, 0, 1, 1, 1, 1, 0, 1, 0, 0, 0, 0, 0, 0, 0, 1, 1, 0, 1, 1, 1, 0, 0, 1, 1, 1, 0, 0, 0, 0, 1, 0, 1, 1, 1, 0, 1, 1, 0, 0, 1, 1, 0, 1, 1, 0, 1, 0, 1, 0, 0, 1, 0, 0, 0, 0, 1, 0, 0, 1, 0, 0, 1, 1, 1, 1, 1, 0, 0, 1, 0, 1, 0, 0, 0, 0, 1, 1, 1, 0, 1, 0, 1, 0, 1, 0, 1, 1, 1, 0, 1, 0, 1, 1, 0, 1, 1, 1, 1, 1, 0, 0, 0, 0, 0, 0, 1, 1, 1, 0, 1, 0, 1, 0, 0, 0, 1, 0, 0, 1, 0, 1, 0, 0, 1, 0, 0, 0, 0, 1, 0, 0, 1, 1, 0, 1, 0, 0, 0, 1, 0, 1, 1, 0, 1, 0, 0, 0, 0, 1, 1, 0, 0, 0, 0, 0, 1, 1, 0, 1, 0, 0, 0, 0, 0, 1, 0, 0, 1, 0, 1, 0, 1, 1, 0, 0, 0, 0, 0, 0, 0, 1, 1, 0, 0, 1, 1, 0, 0, 0, 0, 1, 0, 0, 1, 1, 1, 1, 1, 1, 0, 1, 0, 0, 0, 0, 1, 0, 0, 1, 0, 1, 0, 0, 1, 0, 0, 0, 1, 0, 0, 0, 0, 0, 0, 0, 0, 0, 0, 1, 1, 0, 0, 1, 0, 0, 0, 0, 0, 0, 0, 0, 0, 1, 1, 1, 0, 0, 1, 0, 1, 1, 0, 0, 0, 1, 1, 0, 0, 0, 0, 1, 0, 0, 0, 0, 1, 0, 1, 1, 1, 1, 0, 0, 0, 0, 1, 1, 1, 0, 0, 1, 0, 0, 0, 0, 1, 0, 1, 1, 0, 0, 0, 1, 1, 0, 0, 1, 0, 0, 1, 0, 0, 0, 1, 1, 0, 0, 1, 0, 1, 0, 0, 0, 1, 0, 0, 0, 1, 1, 0, 0, 1, 1, 0, 0, 1, 0, 0, 1, 0, 1, 1, 0, 1, 1, 0, 0, 0, 0, 1, 0, 0, 1, 1, 1, 0, 0, 0, 1, 1, 0, 1, 0, 1, 0, 1, 0, 1, 0, 1, 0, 1, 0, 0, 0, 0, 1, 0, 0, 0, 1, 1, 1, 0, 1, 0, 0, 0, 0, 1, 1, 0, 0, 0, 0, 1, 1, 1, 1, 0, 0, 1, 0, 1, 1, 0, 0, 0, 0, 0, 0, 1, 1, 1, 1, 0, 1, 1, 0, 0, 0, 1, 0, 0, 1, 0, 1, 1, 1, 0, 0, 1, 0, 0, 0, 1, 1, 0, 0, 0, 0, 1, 1, 0, 1, 1, 0, 1, 0, 1, 0, 1, 1, 0, 1, 0, 0, 0, 0, 1, 0, 1, 0, 1, 1, 1, 1, 1, 0, 0, 0, 0, 0, 1, 0, 1, 1, 0, 0, 0, 0, 0, 0, 0, 1, 1, 0, 0, 0, 0, 1, 1, 0, 0, 0, 1, 0, 0, 1, 0, 0, 0, 1, 0, 1, 0, 0, 0, 1, 0, 0, 0, 0, 0, 1, 0, 0, 1, 0, 1, 1, 0, 0, 0, 1, 0, 1, 0, 0, 1, 1, 0, 0, 0, 1, 1, 1, 0, 0, 1, 0, 1, 0, 1, 0, 0, 0, 0, 1, 1, 0, 1, 0, 0, 0, 0, 1, 0, 1, 0, 0, 1, 0, 0, 1, 1, 0, 1, 1, 0, 0, 0, 0, 1, 0, 0, 0, 0, 0, 1, 0, 1, 0, 0, 0, 1, 0, 0, 0, 0, 0, 0, 1, 1, 1, 0, 0, 0, 0, 0, 1, 0, 0, 1, 1, 0, 1, 0, 0, 1, 0, 1, 1, 1, 0, 1, 0, 1, 1, 0, 0, 1, 1, 1, 0, 0, 1, 1, 0, 0, 1, 0, 0, 0, 0, 1, 1, 0, 0, 0, 0, 0, 0, 1, 1, 0, 1, 0, 1, 1, 0, 1, 1, 0, 0, 1, 0, 0, 0, 0, 1, 1, 1, 0, 1, 1, 0, 1, 0, 0, 1, 0, 1, 1, 0, 0, 0, 1, 0, 1, 1, 0, 1, 0, 1, 1, 1, 1, 1, 1, 0, 1, 0, 1, 1, 1, 1, 1, 0, 0, 0, 1, 1, 0, 0, 1, 0, 0, 1, 1, 0, 1, 1, 1, 0, 1, 0, 0, 1, 0, 1, 1, 0, 1, 1, 0, 0, 0, 0, 0, 0, 0, 0, 0, 0, 1, 1, 0, 1, 0, 1, 1, 1, 0, 0, 0, 0, 0, 0, 0, 1, 0, 1, 1, 1, 0, 0, 0, 0, 0, 1, 0, 0, 1, 1, 1, 0, 1, 0, 1, 1, 0, 0, 0, 0, 1, 1, 0, 0, 1, 1, 0, 0, 0, 1, 1, 1, 1, 1, 1, 0, 0, 0, 1, 0, 0, 0, 0, 1, 1, 0, 0, 1, 0, 1, 0, 1, 1, 1, 1, 1, 1, 0, 0, 0, 0, 1, 0, 1, 1, 0, 1, 1, 0, 0, 0, 1, 0, 0, 1, 1, 0, 1, 0, 1, 1, 0, 1, 0, 0, 1, 0, 0, 0, 0, 0, 0, 1, 1, 1, 0, 0, 0, 1, 1, 1, 0, 1, 0, 0, 1, 1, 0, 1, 0, 0, 0, 1, 1, 1, 0, 0, 1, 0, 1, 1, 0, 0, 0, 1, 1, 1, 0, 1, 0, 0, 0, 0, 0, 0, 0, 0, 0, 0, 1, 0, 0, 0, 0, 0, 1, 0, 0, 1, 1, 0, 1, 1, 0, 0, 0, 1, 0, 0, 0, 1, 0, 0, 0, 1, 1, 0, 1, 0, 0, 0, 0, 0, 1, 0, 0, 1, 0, 0, 0, 1, 1, 1, 1, 1, 0, 0, 1, 0, 0, 0, 1, 0, 0, 0, 1, 1, 1, 1, 0, 0, 0, 1, 1, 1, 1, 0, 0, 1, 0, 1, 0, 1, 0, 1, 1, 1, 0, 1, 1, 1, 0, 0, 0, 0, 0, 0, 1, 0, 0, 0, 1, 0, 0, 0, 0, 0, 0, 0, 0, 1, 0, 0, 1, 0, 0, 1, 1, 0, 1, 0, 0, 0, 1, 0, 0, 1, 0, 0, 1, 0, 0, 1, 0, 0, 0, 1, 1, 0, 0, 0, 0, 1, 0, 0, 0, 0, 0, 0, 0, 1, 0, 1, 0, 0, 0, 0, 1, 0, 0, 0, 1, 1, 0, 0, 0, 1, 1, 0, 0, 0, 0, 1, 1, 0, 1, 1, 0, 1, 0, 1, 0, 1, 1, 1, 1, 0, 1, 0, 0, 0, 1, 1, 1, 0, 1, 0, 1, 0, 0, 0, 0, 0, 1, 1, 0, 1, 0, 1, 0, 0, 0, 0, 1, 0, 1, 0, 1, 0, 0, 1, 0, 1, 1, 0, 0, 1, 1, 1, 1, 1, 0, 0, 0, 0, 1, 1, 0, 0, 1, 1, 1, 0, 0, 0, 1, 0, 0, 0, 0, 1, 1, 0, 0, 0, 1, 0, 0, 0, 0, 0, 0, 0, 0, 1, 1, 0, 0, 0, 1, 1, 1, 1, 1, 0, 0, 0, 0, 0, 1, 1, 0, 0, 0, 1, 0, 0, 1, 0, 0, 1, 0, 0, 1, 0, 0, 1, 1, 1, 1, 0, 1, 0, 0, 0, 1, 1, 0, 0, 0, 1, 0, 0, 0, 0, 1, 0, 1, 1, 0, 0, 1, 1, 0, 0, 0, 1, 0, 0, 1, 0, 0, 0, 0, 0, 0, 0, 0, 1, 0, 0, 1, 1, 0, 0, 0, 0, 0, 1, 0, 0, 0, 0, 0, 1, 1, 0, 0, 0, 0, 0, 1, 1, 0, 0, 1, 0, 0, 1, 1, 0, 1, 1, 1, 1, 1, 1, 1, 0, 1, 1, 0, 0, 0, 0, 1, 1, 0, 1, 1, 0, 1, 0, 0, 0, 0, 1, 0, 1, 1, 0, 1, 0, 0, 0, 0, 0, 1, 0, 0, 1, 1, 0, 0, 0, 1, 1, 1, 1, 0, 1, 0, 0, 0, 0, 1, 1, 1, 0, 0, 0, 0, 1, 0, 0, 1, 1, 1, 0, 0, 1, 0, 0, 1, 0, 0, 0, 0, 0, 1, 1, 0, 1, 1, 1, 1, 1, 1, 1, 0, 1, 1, 0, 0, 0, 1, 1, 0, 1, 1, 0, 1, 0, 1, 0, 0, 0, 1, 0, 1, 1, 0, 0, 0, 0, 0, 0, 1, 0, 0, 0, 0, 0, 0, 1, 1, 1, 1, 1, 0, 0, 0, 1, 0, 1, 0, 1, 1, 0, 0, 1, 0, 0, 1, 1, 1, 0, 1, 1, 0, 1, 0, 1, 0, 0, 1, 0, 0, 0, 1, 1, 0, 0, 0, 1, 1, 1, 1, 0, 0, 0, 1, 0, 0, 0, 1, 0, 1, 1, 0, 1, 0, 1, 1, 1, 0, 1, 0, 1, 1, 0, 1, 0, 0, 1, 1, 0, 0, 0, 0, 0, 0, 0, 1, 0, 0, 0, 0, 1, 1, 1, 1, 1, 1, 0, 0, 0, 0, 1, 0, 0, 1, 0, 1, 0, 0, 1, 1, 0, 1, 1, 1, 1, 0, 0, 1, 0, 1, 0, 1, 1, 0, 0, 0, 0, 1, 1, 0, 1, 0, 1, 0, 1, 0, 0, 0, 0, 0, 0, 0, 1, 0, 0, 1, 1, 0, 0, 0, 0, 0, 1, 0, 0, 1, 1, 1, 0, 0, 1, 0, 1, 0, 0, 0, 1, 1, 0, 1, 0, 1, 1, 0, 0, 1, 0, 1, 1, 0, 0, 1, 1, 1, 0, 0, 1, 1, 1, 0, 0, 1, 0, 0, 0, 0, 1, 0, 1, 1, 0, 1, 0, 1, 0, 1, 0, 0, 0, 0, 1, 0, 1, 0, 1, 1, 1, 0, 1, 1, 1, 0, 0, 0, 1, 1, 0, 0, 0, 0, 0, 1, 0, 1, 0, 1, 0, 1, 1, 0, 0, 0, 0, 0, 1, 0, 0, 0, 1, 0, 1, 0, 0, 1, 1, 1, 1, 0, 0, 1, 0, 0, 1, 1, 0, 1, 1, 0, 0, 1, 0, 1, 0, 0, 1, 1, 0, 0, 0, 0, 0, 1, 0, 1, 0, 0, 0, 0, 0, 0, 0, 0, 1, 0, 0, 0, 0, 1, 0, 1, 0, 0, 1, 1, 1, 0, 1, 0, 1, 1, 1, 1, 0, 0, 0, 1, 1, 0, 0, 0, 0, 1, 0, 1, 1, 0, 1, 1, 1, 0, 0, 0, 1, 0, 1, 1, 0, 0, 1, 1, 1, 1, 1, 0, 0, 1, 0, 0, 1, 1, 0, 1, 1, 0, 1, 1, 0, 0, 0, 1, 0, 0, 0, 0, 0, 0, 0, 1, 0, 1, 0, 1, 1, 1, 0, 0, 1, 0, 0, 0, 0, 0, 1, 1, 1, 0, 1, 1, 0, 1, 0, 0, 1, 0, 1, 0, 1, 0, 1, 0, 0, 1, 0, 1, 0, 0, 0, 1, 1, 1, 0, 0, 1, 1, 0, 0, 0, 1, 1, 0, 1, 1, 0, 1, 1, 1, 0, 0, 1, 0, 0, 1, 0, 0, 0, 1, 0, 0, 1, 0, 1, 0, 0, 0, 0, 1, 0, 1, 0, 0, 0, 0, 0, 1, 0, 0, 1, 1, 0, 1, 1, 0, 1, 1, 1, 1, 1, 0, 1, 0, 1, 1, 0, 0, 1, 1, 1, 1, 1, 1, 0, 0, 1, 0, 1, 1, 1, 1, 0, 0, 1, 0, 1, 1, 0, 0, 0, 1, 1, 0, 0, 1, 0, 1, 1, 0, 0, 0, 1, 1, 1, 1, 1, 0, 0, 0, 0, 1, 0, 1, 0, 0, 0, 0, 0, 0, 1, 1, 1, 0, 1, 0, 1, 1, 1, 1, 1, 0, 0, 1, 0, 0, 1, 1, 0, 1, 1, 1, 1, 1, 0, 0, 0, 1, 1, 0, 0, 1, 1, 0, 1, 1, 1, 0, 1, 1, 1, 0, 0, 0, 0, 1, 0, 0, 1, 0, 0, 0, 0, 0, 0, 0, 1, 0, 0, 1, 1, 1, 0, 0, 0, 0, 1, 1, 1, 0, 1, 0, 0, 1, 0, 1, 1, 0, 1, 1, 0, 0, 0, 0, 1, 1, 1, 0, 1, 0, 1, 1, 0, 1, 1, 1, 0, 0, 0, 0, 0, 0, 0, 1, 1, 1, 0, 0, 1, 0, 0, 0, 0, 1, 0, 1, 1, 1, 0, 0, 0, 0, 0, 1, 1, 1, 0, 0, 1, 1, 1, 0, 0, 1, 0, 1, 1, 0, 1, 0, 0, 0, 0, 1, 0, 1, 0, 0, 1, 1, 1, 1, 1, 0, 1, 0, 0, 1, 1, 0, 1, 1, 0, 0, 0, 0, 1, 0, 0, 1, 1, 1, 1, 0, 1, 1, 1, 0, 1, 1, 0, 0, 0, 1, 0, 1, 0, 0, 0, 1, 1, 0]"
     ]
    },
    {
     "name": "stdout",
     "output_type": "stream",
     "text": [
      "\n"
     ]
    }
   ],
   "source": [
    "New_ann_pred=[]\n",
    "for x in ann_pred:\n",
    "    if x>=0.5:\n",
    "        New_ann_pred.append(1)\n",
    "    else:\n",
    "        New_ann_pred.append(0)\n",
    "print(New_ann_pred)"
   ]
  },
  {
   "cell_type": "code",
   "execution_count": 32,
   "id": "2e8f7246",
   "metadata": {
    "execution": {
     "iopub.execute_input": "2023-02-06T10:48:48.070251Z",
     "iopub.status.busy": "2023-02-06T10:48:48.069471Z",
     "iopub.status.idle": "2023-02-06T10:48:48.074768Z",
     "shell.execute_reply": "2023-02-06T10:48:48.073650Z"
    },
    "papermill": {
     "duration": 0.093725,
     "end_time": "2023-02-06T10:48:48.077370",
     "exception": false,
     "start_time": "2023-02-06T10:48:47.983645",
     "status": "completed"
    },
    "tags": []
   },
   "outputs": [],
   "source": [
    "#Now we check the final accuracy of model"
   ]
  },
  {
   "cell_type": "code",
   "execution_count": 33,
   "id": "91ccefd8",
   "metadata": {
    "execution": {
     "iopub.execute_input": "2023-02-06T10:48:48.253448Z",
     "iopub.status.busy": "2023-02-06T10:48:48.252999Z",
     "iopub.status.idle": "2023-02-06T10:48:48.263936Z",
     "shell.execute_reply": "2023-02-06T10:48:48.262744Z"
    },
    "papermill": {
     "duration": 0.102195,
     "end_time": "2023-02-06T10:48:48.266693",
     "exception": false,
     "start_time": "2023-02-06T10:48:48.164498",
     "status": "completed"
    },
    "tags": []
   },
   "outputs": [
    {
     "data": {
      "text/plain": [
       "82.16976393771974"
      ]
     },
     "execution_count": 33,
     "metadata": {},
     "output_type": "execute_result"
    }
   ],
   "source": [
    "from sklearn.metrics import accuracy_score,confusion_matrix,classification_report\n",
    "Final_score=accuracy_score(y_test,New_ann_pred)\n",
    "Final_score*100"
   ]
  },
  {
   "cell_type": "code",
   "execution_count": 34,
   "id": "62b5f8e0",
   "metadata": {
    "execution": {
     "iopub.execute_input": "2023-02-06T10:48:48.446196Z",
     "iopub.status.busy": "2023-02-06T10:48:48.444557Z",
     "iopub.status.idle": "2023-02-06T10:48:48.460041Z",
     "shell.execute_reply": "2023-02-06T10:48:48.458618Z"
    },
    "papermill": {
     "duration": 0.108033,
     "end_time": "2023-02-06T10:48:48.462987",
     "exception": false,
     "start_time": "2023-02-06T10:48:48.354954",
     "status": "completed"
    },
    "tags": []
   },
   "outputs": [
    {
     "data": {
      "text/html": [
       "<div>\n",
       "<style scoped>\n",
       "    .dataframe tbody tr th:only-of-type {\n",
       "        vertical-align: middle;\n",
       "    }\n",
       "\n",
       "    .dataframe tbody tr th {\n",
       "        vertical-align: top;\n",
       "    }\n",
       "\n",
       "    .dataframe thead th {\n",
       "        text-align: right;\n",
       "    }\n",
       "</style>\n",
       "<table border=\"1\" class=\"dataframe\">\n",
       "  <thead>\n",
       "    <tr style=\"text-align: right;\">\n",
       "      <th></th>\n",
       "      <th>Actual_value</th>\n",
       "      <th>Predicted_Result</th>\n",
       "    </tr>\n",
       "  </thead>\n",
       "  <tbody>\n",
       "    <tr>\n",
       "      <th>0</th>\n",
       "      <td>1</td>\n",
       "      <td>1</td>\n",
       "    </tr>\n",
       "    <tr>\n",
       "      <th>1</th>\n",
       "      <td>0</td>\n",
       "      <td>0</td>\n",
       "    </tr>\n",
       "    <tr>\n",
       "      <th>2</th>\n",
       "      <td>0</td>\n",
       "      <td>0</td>\n",
       "    </tr>\n",
       "    <tr>\n",
       "      <th>3</th>\n",
       "      <td>0</td>\n",
       "      <td>0</td>\n",
       "    </tr>\n",
       "    <tr>\n",
       "      <th>4</th>\n",
       "      <td>0</td>\n",
       "      <td>0</td>\n",
       "    </tr>\n",
       "    <tr>\n",
       "      <th>...</th>\n",
       "      <td>...</td>\n",
       "      <td>...</td>\n",
       "    </tr>\n",
       "    <tr>\n",
       "      <th>3977</th>\n",
       "      <td>1</td>\n",
       "      <td>0</td>\n",
       "    </tr>\n",
       "    <tr>\n",
       "      <th>3978</th>\n",
       "      <td>1</td>\n",
       "      <td>0</td>\n",
       "    </tr>\n",
       "    <tr>\n",
       "      <th>3979</th>\n",
       "      <td>1</td>\n",
       "      <td>1</td>\n",
       "    </tr>\n",
       "    <tr>\n",
       "      <th>3980</th>\n",
       "      <td>1</td>\n",
       "      <td>1</td>\n",
       "    </tr>\n",
       "    <tr>\n",
       "      <th>3981</th>\n",
       "      <td>0</td>\n",
       "      <td>0</td>\n",
       "    </tr>\n",
       "  </tbody>\n",
       "</table>\n",
       "<p>3982 rows × 2 columns</p>\n",
       "</div>"
      ],
      "text/plain": [
       "      Actual_value  Predicted_Result\n",
       "0                1                 1\n",
       "1                0                 0\n",
       "2                0                 0\n",
       "3                0                 0\n",
       "4                0                 0\n",
       "...            ...               ...\n",
       "3977             1                 0\n",
       "3978             1                 0\n",
       "3979             1                 1\n",
       "3980             1                 1\n",
       "3981             0                 0\n",
       "\n",
       "[3982 rows x 2 columns]"
      ]
     },
     "execution_count": 34,
     "metadata": {},
     "output_type": "execute_result"
    }
   ],
   "source": [
    "pd.DataFrame(np.c_[y_test,New_ann_pred],columns=[\"Actual_value\",\"Predicted_Result\"])"
   ]
  },
  {
   "cell_type": "markdown",
   "id": "68032221",
   "metadata": {
    "papermill": {
     "duration": 0.089185,
     "end_time": "2023-02-06T10:48:48.643322",
     "exception": false,
     "start_time": "2023-02-06T10:48:48.554137",
     "status": "completed"
    },
    "tags": []
   },
   "source": [
    "# ******This is our final expected outcome ******"
   ]
  },
  {
   "cell_type": "markdown",
   "id": "6d041c7a",
   "metadata": {
    "papermill": {
     "duration": 0.085076,
     "end_time": "2023-02-06T10:48:48.817009",
     "exception": false,
     "start_time": "2023-02-06T10:48:48.731933",
     "status": "completed"
    },
    "tags": []
   },
   "source": [
    "**With the help of Confusion matrix we check the performance of our ANN model**"
   ]
  },
  {
   "cell_type": "code",
   "execution_count": 35,
   "id": "c3925c8e",
   "metadata": {
    "execution": {
     "iopub.execute_input": "2023-02-06T10:48:48.989390Z",
     "iopub.status.busy": "2023-02-06T10:48:48.988963Z",
     "iopub.status.idle": "2023-02-06T10:48:48.997660Z",
     "shell.execute_reply": "2023-02-06T10:48:48.996317Z"
    },
    "papermill": {
     "duration": 0.098184,
     "end_time": "2023-02-06T10:48:49.000164",
     "exception": false,
     "start_time": "2023-02-06T10:48:48.901980",
     "status": "completed"
    },
    "tags": []
   },
   "outputs": [
    {
     "name": "stdout",
     "output_type": "stream",
     "text": [
      "[[1763  217]\n",
      " [ 493 1509]]\n"
     ]
    }
   ],
   "source": [
    "print(confusion_matrix(y_test,New_ann_pred))"
   ]
  },
  {
   "cell_type": "code",
   "execution_count": 36,
   "id": "a7be68ac",
   "metadata": {
    "execution": {
     "iopub.execute_input": "2023-02-06T10:48:49.168741Z",
     "iopub.status.busy": "2023-02-06T10:48:49.167714Z",
     "iopub.status.idle": "2023-02-06T10:48:49.445077Z",
     "shell.execute_reply": "2023-02-06T10:48:49.443799Z"
    },
    "papermill": {
     "duration": 0.364739,
     "end_time": "2023-02-06T10:48:49.447822",
     "exception": false,
     "start_time": "2023-02-06T10:48:49.083083",
     "status": "completed"
    },
    "tags": []
   },
   "outputs": [
    {
     "data": {
      "image/png": "[encoded data removed]",
      "text/plain": [
       "<Figure size 432x288 with 2 Axes>"
      ]
     },
     "metadata": {
      "needs_background": "light"
     },
     "output_type": "display_data"
    }
   ],
   "source": [
    "# confusion matrix\n",
    "from sklearn import metrics\n",
    "import matplotlib.pyplot as plt\n",
    "Confusion_Matrix=metrics.confusion_matrix(y_test,New_ann_pred)\n",
    "cm_display=metrics.ConfusionMatrixDisplay(Confusion_Matrix)\n",
    "cm_display.plot()\n",
    "plt.show()\n"
   ]
  },
  {
   "cell_type": "code",
   "execution_count": 37,
   "id": "6d7b577f",
   "metadata": {
    "execution": {
     "iopub.execute_input": "2023-02-06T10:48:49.615753Z",
     "iopub.status.busy": "2023-02-06T10:48:49.614653Z",
     "iopub.status.idle": "2023-02-06T10:48:49.633123Z",
     "shell.execute_reply": "2023-02-06T10:48:49.631464Z"
    },
    "papermill": {
     "duration": 0.104851,
     "end_time": "2023-02-06T10:48:49.635684",
     "exception": false,
     "start_time": "2023-02-06T10:48:49.530833",
     "status": "completed"
    },
    "tags": []
   },
   "outputs": [
    {
     "name": "stdout",
     "output_type": "stream",
     "text": [
      "              precision    recall  f1-score   support\n",
      "\n",
      "           0       0.78      0.89      0.83      1980\n",
      "           1       0.87      0.75      0.81      2002\n",
      "\n",
      "    accuracy                           0.82      3982\n",
      "   macro avg       0.83      0.82      0.82      3982\n",
      "weighted avg       0.83      0.82      0.82      3982\n",
      "\n"
     ]
    }
   ],
   "source": [
    "print(classification_report(y_test,New_ann_pred))"
   ]
  },
  {
   "cell_type": "markdown",
   "id": "a6aaf31f",
   "metadata": {
    "papermill": {
     "duration": 0.082357,
     "end_time": "2023-02-06T10:48:49.800971",
     "exception": false,
     "start_time": "2023-02-06T10:48:49.718614",
     "status": "completed"
    },
    "tags": []
   },
   "source": [
    "**From the above Final accuracy and  confusion matrix we say that performance of our model is good or our model performance is best**"
   ]
  },
  {
   "cell_type": "markdown",
   "id": "95f75a8a",
   "metadata": {
    "papermill": {
     "duration": 0.082929,
     "end_time": "2023-02-06T10:48:49.966560",
     "exception": false,
     "start_time": "2023-02-06T10:48:49.883631",
     "status": "completed"
    },
    "tags": []
   },
   "source": [
    "# Visualisation"
   ]
  },
  {
   "cell_type": "code",
   "execution_count": 38,
   "id": "88cc26e6",
   "metadata": {
    "execution": {
     "iopub.execute_input": "2023-02-06T10:48:50.134074Z",
     "iopub.status.busy": "2023-02-06T10:48:50.133247Z",
     "iopub.status.idle": "2023-02-06T10:48:52.481008Z",
     "shell.execute_reply": "2023-02-06T10:48:52.480163Z"
    },
    "papermill": {
     "duration": 2.435167,
     "end_time": "2023-02-06T10:48:52.483952",
     "exception": false,
     "start_time": "2023-02-06T10:48:50.048785",
     "status": "completed"
    },
    "tags": []
   },
   "outputs": [
    {
     "data": {
      "image/png": "[encoded data removed]",
      "text/plain": [
       "<Figure size 540x540 with 12 Axes>"
      ]
     },
     "metadata": {
      "needs_background": "light"
     },
     "output_type": "display_data"
    }
   ],
   "source": [
    "data1= data[['CreditScore', 'Balance', 'EstimatedSalary',]]\n",
    "sns.pairplot(data1)\n",
    "plt.show()"
   ]
  },
  {
   "cell_type": "code",
   "execution_count": 39,
   "id": "750338e6",
   "metadata": {
    "execution": {
     "iopub.execute_input": "2023-02-06T10:48:52.732033Z",
     "iopub.status.busy": "2023-02-06T10:48:52.731407Z",
     "iopub.status.idle": "2023-02-06T10:48:53.030126Z",
     "shell.execute_reply": "2023-02-06T10:48:53.029148Z"
    },
    "papermill": {
     "duration": 0.391917,
     "end_time": "2023-02-06T10:48:53.032303",
     "exception": false,
     "start_time": "2023-02-06T10:48:52.640386",
     "status": "completed"
    },
    "tags": []
   },
   "outputs": [
    {
     "data": {
      "text/plain": [
       "<AxesSubplot:xlabel='NumOfProducts', ylabel='EstimatedSalary'>"
      ]
     },
     "execution_count": 39,
     "metadata": {},
     "output_type": "execute_result"
    },
    {
     "data": {
      "image/png": "[encoded data removed]",
      "text/plain": [
       "<Figure size 432x288 with 1 Axes>"
      ]
     },
     "metadata": {
      "needs_background": "light"
     },
     "output_type": "display_data"
    }
   ],
   "source": [
    "\n",
    "sns.violinplot(x='NumOfProducts', y='EstimatedSalary', data=data)"
   ]
  },
  {
   "cell_type": "code",
   "execution_count": 40,
   "id": "2ef2d15f",
   "metadata": {
    "execution": {
     "iopub.execute_input": "2023-02-06T10:48:53.212155Z",
     "iopub.status.busy": "2023-02-06T10:48:53.211438Z",
     "iopub.status.idle": "2023-02-06T10:48:53.590697Z",
     "shell.execute_reply": "2023-02-06T10:48:53.589460Z"
    },
    "papermill": {
     "duration": 0.472669,
     "end_time": "2023-02-06T10:48:53.593434",
     "exception": false,
     "start_time": "2023-02-06T10:48:53.120765",
     "status": "completed"
    },
    "tags": []
   },
   "outputs": [
    {
     "data": {
      "text/plain": [
       "array([[<AxesSubplot:title={'center':'CreditScore'}>,\n",
       "        <AxesSubplot:title={'center':'NumOfProducts'}>]], dtype=object)"
      ]
     },
     "execution_count": 40,
     "metadata": {},
     "output_type": "execute_result"
    },
    {
     "data": {
      "image/png": "[encoded data removed]",
      "text/plain": [
       "<Figure size 720x288 with 2 Axes>"
      ]
     },
     "metadata": {
      "needs_background": "light"
     },
     "output_type": "display_data"
    }
   ],
   "source": [
    "features = ['CreditScore', 'NumOfProducts']\n",
    "data[features].hist(figsize=(10, 4))"
   ]
  },
  {
   "cell_type": "markdown",
   "id": "c72a6519",
   "metadata": {
    "papermill": {
     "duration": 0.090709,
     "end_time": "2023-02-06T10:48:53.778832",
     "exception": false,
     "start_time": "2023-02-06T10:48:53.688123",
     "status": "completed"
    },
    "tags": []
   },
   "source": [
    "# THANK YOU"
   ]
  },
  {
   "cell_type": "code",
   "execution_count": null,
   "id": "aedc2acc",
   "metadata": {
    "papermill": {
     "duration": 0.088232,
     "end_time": "2023-02-06T10:48:53.954748",
     "exception": false,
     "start_time": "2023-02-06T10:48:53.866516",
     "status": "completed"
    },
    "tags": []
   },
   "outputs": [],
   "source": []
  }
 ],
 "metadata": {
  "kernelspec": {
   "display_name": "Python 3 (ipykernel)",
   "language": "python",
   "name": "python3"
  },
  "language_info": {
   "codemirror_mode": {
    "name": "ipython",
    "version": 3
   },
   "file_extension": ".py",
   "mimetype": "text/x-python",
   "name": "python",
   "nbconvert_exporter": "python",
   "pygments_lexer": "ipython3",
   "version": "3.9.12"
  },
  "papermill": {
   "default_parameters": {},
   "duration": 112.299937,
   "end_time": "2023-02-06T10:48:56.936406",
   "environment_variables": {},
   "exception": null,
   "input_path": "__notebook__.ipynb",
   "output_path": "__notebook__.ipynb",
   "parameters": {},
   "start_time": "2023-02-06T10:47:04.636469",
   "version": "2.3.4"
  }
 },
 "nbformat": 4,
 "nbformat_minor": 5
}
